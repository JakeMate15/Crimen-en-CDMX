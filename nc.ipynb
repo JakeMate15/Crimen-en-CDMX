{
 "cells": [
  {
   "cell_type": "markdown",
   "id": "4e0e2b4667cafb47",
   "metadata": {},
   "source": [
    "## 1. Carga y Limpieza de Datos de Crímenes\n",
    "\n",
    "En esta sección cargamos los datos de delitos, realizamos una limpieza inicial y filtramos únicamente los robos a transeúntes en vía pública con y sin violencia."
   ]
  },
  {
   "cell_type": "code",
   "execution_count": null,
   "id": "initial_id",
   "metadata": {
    "ExecuteTime": {
     "end_time": "2024-12-12T21:27:57.160703Z",
     "start_time": "2024-12-12T21:27:56.547590Z"
    },
    "collapsed": true
   },
   "outputs": [],
   "source": [
    "from functools import reduce\n",
    "import pandas as pd\n",
    "import geopandas as gpd\n",
    "import matplotlib.pyplot as plt\n",
    "import shapely.geometry as sg\n",
    "import seaborn as sns\n",
    "import numpy as np\n",
    "\n",
    "crimen = pd.read_csv('delitos.csv', skiprows=1)\n",
    "crimen.replace('GUSTAVO A MADERO', 'GUSTAVO A. MADERO', inplace=True)\n",
    "print(f\"Dimensiones del DataFrame: {crimen.shape}\")\n",
    "\n",
    "print(\"Columnas del DataFrame:\", crimen.columns.tolist())\n",
    "print(\"\\nConteo de tipos de delitos:\")\n",
    "print(crimen['DELITO'].value_counts())\n",
    "\n",
    "crimen = crimen[crimen['DELITO'] == 'ROBO A TRANSEUNTE EN VÍA PÚBLICA CON Y SIN VIOLENCIA']\n",
    "print(f\"Dimensiones después del filtrado: {crimen.shape}\")\n",
    "robos_alcaldia = crimen.groupby('ALCALDÍA HECHOS')['DELITO'].count()\n",
    "print(\"Robos por Alcaldía:\")\n",
    "print(robos_alcaldia)\n"
   ]
  },
  {
   "cell_type": "markdown",
   "id": "c42451647d2401f9",
   "metadata": {},
   "source": [
    "## 2. Carga y Procesamiento de Datos de Población\n",
    "\n",
    "Se cargan los datos de población, se agrupan por alcaldía y se combinan con los datos de robos para calcular tasas por 100,000 habitantes."
   ]
  },
  {
   "cell_type": "code",
   "execution_count": null,
   "id": "add69147bdc9c646",
   "metadata": {
    "ExecuteTime": {
     "end_time": "2024-12-12T21:27:57.244040Z",
     "start_time": "2024-12-12T21:27:57.212547Z"
    }
   },
   "outputs": [],
   "source": [
    "poblacion = pd.read_csv('poblacion.csv')\n",
    "poblacion_alcaldia = poblacion.groupby('alcaldia')['poblacion'].sum()\n",
    "print(\"Población por Alcaldía:\")\n",
    "print(poblacion_alcaldia)\n",
    "\n",
    "robos_poblacion_df = pd.DataFrame({\n",
    "    'robos': robos_alcaldia,\n",
    "    'poblacion': poblacion_alcaldia\n",
    "}).dropna()\n",
    "\n",
    "robos_poblacion_df['tasa_robos'] = (robos_poblacion_df['robos']/robos_poblacion_df['poblacion'])*100000\n",
    "robos_poblacion_df\n"
   ]
  },
  {
   "cell_type": "markdown",
   "id": "1239e0d53d00e814",
   "metadata": {},
   "source": [
    "## 3. Filtrado de Alcaldías de Interés y Limpieza de Coordenadas\n",
    "\n",
    "Se enfocan los datos en las alcaldías de interés y se asegura la calidad geoespacial al eliminar registros sin coordenadas.\n"
   ]
  },
  {
   "cell_type": "code",
   "execution_count": null,
   "id": "2c1cf1a9e1bcfd9f",
   "metadata": {
    "ExecuteTime": {
     "end_time": "2024-12-12T21:27:57.387585Z",
     "start_time": "2024-12-12T21:27:57.361347Z"
    }
   },
   "outputs": [],
   "source": [
    "alcaldias_interes = ['CUAUHTEMOC', 'GUSTAVO A. MADERO', 'CUAJIMALPA DE MORELOS']\n",
    "crimen = crimen[crimen['ALCALDÍA HECHOS'].isin(alcaldias_interes)]\n",
    "crimen['COORD X'] = pd.to_numeric(crimen['COORD X'], errors='coerce')\n",
    "crimen['COORD Y'] = pd.to_numeric(crimen['COORD Y'], errors='coerce')\n",
    "crimen = crimen.dropna(subset=['COORD X','COORD Y'])\n",
    "\n",
    "robos_alcaldia = crimen.groupby('ALCALDÍA HECHOS')['DELITO'].count()\n",
    "print(\"Robos por Alcaldía después del filtrado:\")\n",
    "print(robos_alcaldia)\n",
    "\n",
    "poblacion = poblacion[poblacion['alcaldia'].isin(alcaldias_interes)]\n",
    "poblacion_alcaldia = poblacion.groupby('alcaldia')['poblacion'].sum()\n",
    "print(\"Población por Alcaldía después del filtrado:\")\n",
    "print(poblacion_alcaldia)"
   ]
  },
  {
   "cell_type": "markdown",
   "id": "d1f4b4dce186992f",
   "metadata": {},
   "source": [
    "## 4. Análisis Geoespacial\n",
    "\n",
    "Se genera un mapa base, se incorporan los datos de crímenes como puntos georreferenciados y se filtra el mapa a las alcaldías de interés."
   ]
  },
  {
   "cell_type": "code",
   "execution_count": null,
   "id": "1b3ae10af76fadb0",
   "metadata": {
    "ExecuteTime": {
     "end_time": "2024-12-12T21:27:57.968777Z",
     "start_time": "2024-12-12T21:27:57.433203Z"
    }
   },
   "outputs": [],
   "source": [
    "# Ruta al archivo GeoJSON\n",
    "ruta_geojson = 'mapa.json'\n",
    "\n",
    "# Carga del mapa base\n",
    "agebs = gpd.read_file(ruta_geojson)\n",
    "# Creación de geometrías a partir de coordenadas\n",
    "crimen['geometry'] = crimen.apply(lambda row: sg.Point(row['COORD X'], row['COORD Y']), axis=1)\n",
    "crimen_gdf = gpd.GeoDataFrame(crimen, geometry='geometry')\n",
    "\n",
    "# Asignación del CRS (Sistema de Referencia de Coordenadas)\n",
    "crimen_gdf.set_crs(agebs.crs, inplace=True)\n",
    "print(\"CRS del mapa base:\", agebs.crs)\n",
    "print(\"CRS de crímenes:\", crimen_gdf.crs)"
   ]
  },
  {
   "cell_type": "code",
   "execution_count": null,
   "id": "5884b74a13f3fb83",
   "metadata": {
    "ExecuteTime": {
     "end_time": "2024-12-12T21:27:58.874822Z",
     "start_time": "2024-12-12T21:27:58.019881Z"
    }
   },
   "outputs": [],
   "source": [
    "# Configuración de la figura\n",
    "fig, ax = plt.subplots(figsize=(15, 15))  # Tamaño aumentado para mejor visualización\n",
    "\n",
    "# Plot del mapa base\n",
    "agebs.plot(ax=ax, color='lightgrey', edgecolor='black')\n",
    "\n",
    "# Plot de los crímenes\n",
    "crimen_gdf.plot(ax=ax, markersize=1, color='red', alpha=1, marker='o', label='Crímenes')\n",
    "\n",
    "# Ajuste de los límites del mapa con un margen\n",
    "xmin, ymin, xmax, ymax = agebs.total_bounds\n",
    "margin_x = (xmax - xmin) * 0.05\n",
    "margin_y = (ymax - ymin) * 0.05\n",
    "ax.set_xlim(xmin - margin_x, xmax + margin_x)\n",
    "ax.set_ylim(ymin - margin_y, ymax + margin_y)\n",
    "\n",
    "# Añadir leyenda y título\n",
    "plt.legend()\n",
    "plt.title('Mapa de Áreas y Crímenes')\n",
    "plt.show()"
   ]
  },
  {
   "cell_type": "markdown",
   "id": "82c41b6e5b279e16",
   "metadata": {},
   "source": [
    "## 5. Análisis de Variables Independientes\n",
    "\n",
    "Se incorporan variables como densidad de población, grado de escolaridad, número de escuelas y uso de suelo no residencial. Estas variables pueden influir en la incidencia delictiva.\n"
   ]
  },
  {
   "cell_type": "markdown",
   "id": "fe6b418ab319a8db",
   "metadata": {},
   "source": [
    "### 5.1. Densidad de Población\n",
    "\n",
    "Se calcula la densidad de población (habitantes por km²) para entender su relación con los robos.\n"
   ]
  },
  {
   "cell_type": "code",
   "execution_count": null,
   "id": "c1a7d52776157e90",
   "metadata": {
    "ExecuteTime": {
     "end_time": "2024-12-12T21:27:59.362257Z",
     "start_time": "2024-12-12T21:27:58.922940Z"
    }
   },
   "outputs": [],
   "source": [
    "agebs['area_km2'] = agebs['AREA']/100\n",
    "poblacion_alcaldia_df = poblacion_alcaldia.reset_index()\n",
    "poblacion_alcaldia_df.columns = ['NOMGEO','poblacion']\n",
    "densidad_df = agebs[['NOMGEO','area_km2']].merge(poblacion_alcaldia_df, on='NOMGEO')\n",
    "densidad_df['densidad_poblacion'] = densidad_df['poblacion']/densidad_df['area_km2']\n",
    "agebs = agebs.merge(densidad_df[['NOMGEO','densidad_poblacion']], on='NOMGEO')\n",
    "\n",
    "fig, ax = plt.subplots(figsize=(10,10))\n",
    "agebs.plot(column='densidad_poblacion', cmap='Blues', linewidth=0.8, ax=ax, edgecolor='0.8', legend=True)\n",
    "plt.title('Densidad de Población por Alcaldía (2010)')\n",
    "plt.axis('off')\n",
    "plt.show()\n",
    "\n",
    "plt.figure(figsize=(8,6))\n",
    "sns.barplot(x='NOMGEO', y='densidad_poblacion', data=densidad_df, palette='Blues_d')\n",
    "plt.xlabel('Alcaldía')\n",
    "plt.ylabel('Densidad de Población (hab/km²)')\n",
    "plt.title('Densidad de Población por Alcaldía (2010)')\n",
    "plt.show()"
   ]
  },
  {
   "cell_type": "markdown",
   "id": "5d51b40bd6347b25",
   "metadata": {},
   "source": [
    "### 5.2. Escolaridad\n",
    "\n",
    "Se analiza el grado de escolaridad promedio en las alcaldías de interés para 2020.\n",
    "\n",
    "https://planeacion.sep.gob.mx/Doc/Atlas_estados/CDMX.pdf"
   ]
  },
  {
   "cell_type": "code",
   "execution_count": null,
   "id": "e248a7d6df7cbd80",
   "metadata": {
    "ExecuteTime": {
     "end_time": "2024-12-12T21:27:59.846045Z",
     "start_time": "2024-12-12T21:27:59.416702Z"
    }
   },
   "outputs": [],
   "source": [
    "escolaridad = pd.read_csv('escolaridad.csv')\n",
    "escolaridad = escolaridad[['Municipio', 'Grado de escolaridad promedio']]\n",
    "escolaridad = escolaridad[escolaridad['Municipio'].isin(alcaldias_interes)]\n",
    "\n",
    "plt.figure(figsize=(8,6))\n",
    "sns.barplot(x='Municipio', y='Grado de escolaridad promedio', data=escolaridad, palette='Blues_d')\n",
    "plt.xlabel('Alcaldía')\n",
    "plt.ylabel('Grado de Escolaridad Promedio (años)')\n",
    "plt.title('Grado de Escolaridad Promedio por Alcaldía (2020)')\n",
    "plt.show()\n",
    "\n",
    "escolaridad = escolaridad.rename(columns={'Municipio':'NOMGEO'})\n",
    "agebs = agebs.merge(escolaridad, on='NOMGEO')\n",
    "\n",
    "fig, ax = plt.subplots(figsize=(10,10))\n",
    "agebs.plot(column='Grado de escolaridad promedio', cmap='Greens', linewidth=0.8, ax=ax, edgecolor='0.8', legend=True)\n",
    "plt.title('Grado de Escolaridad Promedio por Alcaldía (2020)')\n",
    "plt.axis('off')\n",
    "plt.show()\n"
   ]
  },
  {
   "cell_type": "markdown",
   "id": "ea5a21f7e556ed98",
   "metadata": {},
   "source": [
    "### 5.3. Escuelas Públicas y Privadas\n",
    "\n",
    "Se calcula la cantidad de escuelas públicas y privadas por alcaldía y se analiza su densidad.\n",
    "\n",
    "https://datos.cdmx.gob.mx/dataset/escuelas-publicas\n",
    "https://datos.cdmx.gob.mx/dataset/escuelas-privadas"
   ]
  },
  {
   "cell_type": "code",
   "execution_count": null,
   "id": "9073ba1956ff004f",
   "metadata": {
    "ExecuteTime": {
     "end_time": "2024-12-12T21:28:00.107255Z",
     "start_time": "2024-12-12T21:27:59.897660Z"
    }
   },
   "outputs": [],
   "source": [
    "escuelas_privadas = pd.read_csv('escuelas_privadas.csv')\n",
    "escuelas_publicas = pd.read_csv('escuelas_publicas.csv')\n",
    "\n",
    "escuelas_privadas = escuelas_privadas[escuelas_privadas['alcaldia'].isin(alcaldias_interes)]\n",
    "escuelas_publicas = escuelas_publicas[escuelas_publicas['alcaldia'].isin(alcaldias_interes)]\n",
    "\n",
    "conteo_privadas = escuelas_privadas.groupby('alcaldia').size().reset_index(name='escuelas_privadas')\n",
    "conteo_publicas = escuelas_publicas.groupby('alcaldia').size().reset_index(name='escuelas_publicas')\n",
    "conteo_total_escuelas = pd.merge(conteo_privadas, conteo_publicas, on='alcaldia', how='outer').fillna(0)\n",
    "conteo_total_escuelas['escuelas_privadas'] = conteo_total_escuelas['escuelas_privadas'].astype(int)\n",
    "conteo_total_escuelas['escuelas_publicas'] = conteo_total_escuelas['escuelas_publicas'].astype(int)\n",
    "\n",
    "fig, ax = plt.subplots(figsize=(10,6))\n",
    "bar_width = 0.35\n",
    "index = np.arange(len(conteo_total_escuelas))\n",
    "ax.bar(index, conteo_total_escuelas['escuelas_privadas'], bar_width, color='skyblue', label='Privadas')\n",
    "ax.bar(index+bar_width, conteo_total_escuelas['escuelas_publicas'], bar_width, color='salmon', label='Públicas')\n",
    "ax.set_xticks(index+bar_width/2)\n",
    "ax.set_xticklabels(conteo_total_escuelas['alcaldia'])\n",
    "ax.set_xlabel('Alcaldía')\n",
    "ax.set_ylabel('Cantidad de Escuelas')\n",
    "ax.set_title('Cantidad de Escuelas Privadas y Públicas por Alcaldía')\n",
    "ax.legend()\n",
    "plt.show()\n",
    "\n",
    "conteo_total_escuelas = conteo_total_escuelas.rename(columns={'alcaldia':'NOMGEO'})\n",
    "conteo_total_escuelas = conteo_total_escuelas.merge(agebs, on='NOMGEO')\n",
    "conteo_total_escuelas = conteo_total_escuelas[['NOMGEO','escuelas_privadas','escuelas_publicas','area_km2']]\n",
    "conteo_total_escuelas['densidad_escuelas_privadas'] = conteo_total_escuelas['escuelas_privadas']/conteo_total_escuelas['area_km2']\n",
    "conteo_total_escuelas['densidad_escuelas_publicas'] = conteo_total_escuelas['escuelas_publicas']/conteo_total_escuelas['area_km2']\n",
    "conteo_total_escuelas = conteo_total_escuelas[['NOMGEO','densidad_escuelas_privadas','densidad_escuelas_publicas']]\n",
    "conteo_total_escuelas\n"
   ]
  },
  {
   "cell_type": "markdown",
   "id": "650f5206b01653f7",
   "metadata": {},
   "source": [
    "### 5.4. Uso de Suelo No Residencial\n",
    "\n",
    "Se analizan tipos de uso de suelo no residencial, principalmente orientados a comercio y servicios.\n",
    "\n"
   ]
  },
  {
   "cell_type": "code",
   "execution_count": null,
   "id": "911dac9c5c4f1550",
   "metadata": {
    "ExecuteTime": {
     "end_time": "2024-12-12T21:28:00.560162Z",
     "start_time": "2024-12-12T21:28:00.206873Z"
    }
   },
   "outputs": [],
   "source": [
    "dfUsoDeSuelo = pd.read_csv('usoDeSuelo.csv')\n",
    "dfUsoDeSuelo = dfUsoDeSuelo[dfUsoDeSuelo['alcaldia'].isin(alcaldias_interes)]\n",
    "dfUsoDeSuelo = dfUsoDeSuelo.groupby('alcaldia').size().reset_index(name='usoNoResidencial')\n",
    "\n",
    "plt.figure(figsize=(8,6))\n",
    "sns.barplot(x='alcaldia', y='usoNoResidencial', data=dfUsoDeSuelo)\n",
    "plt.xlabel('Alcaldía')\n",
    "plt.ylabel('Cantidad de Usos No Residenciales')\n",
    "plt.title('Uso del Suelo No Residencial por Alcaldía')\n",
    "plt.show()"
   ]
  },
  {
   "cell_type": "code",
   "execution_count": null,
   "id": "a7b868ba1e79a765",
   "metadata": {
    "ExecuteTime": {
     "end_time": "2024-12-12T21:28:00.717453Z",
     "start_time": "2024-12-12T21:28:00.708332Z"
    }
   },
   "outputs": [],
   "source": [
    "dfUsoDeSuelo = dfUsoDeSuelo.merge(poblacion_alcaldia.reset_index(), on='alcaldia', how='left')\n",
    "dfUsoDeSuelo.head()"
   ]
  },
  {
   "cell_type": "code",
   "execution_count": null,
   "id": "26c64a8bf6a083ce",
   "metadata": {
    "ExecuteTime": {
     "end_time": "2024-12-12T21:28:00.770662Z",
     "start_time": "2024-12-12T21:28:00.757760Z"
    }
   },
   "outputs": [],
   "source": [
    "dfUsoDeSuelo['usoNoResidencial_100k'] = (dfUsoDeSuelo['usoNoResidencial'] / dfUsoDeSuelo['poblacion']) * 100000\n",
    "dfUsoDeSuelo = dfUsoDeSuelo[['alcaldia', 'usoNoResidencial_100k']]\n",
    "dfUsoDeSuelo"
   ]
  },
  {
   "cell_type": "markdown",
   "id": "51476ad4f514d4ba",
   "metadata": {},
   "source": [
    "### 5.5. Cámaras de Vigilancia (C5I)\n",
    "\n",
    "Se considera la distribución de cámaras de vigilancia en las alcaldías de interés.\n",
    "\n",
    "https://www.infocdmx.org.mx/index.php/2-boletines/5567-dcs-089-17.html\n"
   ]
  },
  {
   "cell_type": "code",
   "execution_count": null,
   "id": "50ae56e383e37267",
   "metadata": {
    "ExecuteTime": {
     "end_time": "2024-12-12T21:28:00.928586Z",
     "start_time": "2024-12-12T21:28:00.919326Z"
    }
   },
   "outputs": [],
   "source": [
    "dfCamaras = pd.read_csv('camarasC5I.csv')\n",
    "dfCamaras = dfCamaras[dfCamaras['Delegación'].isin(alcaldias_interes)]\n",
    "# dfCamaras = pd.merge(dfCamaras, poblacion_alcaldia, left_on='Delegación', right_on='alcaldia')\n",
    "# dfCamaras['densidadCamaras'] = \n",
    "dfCamaras = dfCamaras.rename(columns = {\"Delegación\": \"alcaldia\", \"Total Cámaras\": \"totalCamaras\"})\n",
    "dfCamaras.head()"
   ]
  },
  {
   "cell_type": "code",
   "execution_count": null,
   "id": "5c7f77698ee4c515",
   "metadata": {
    "ExecuteTime": {
     "end_time": "2024-12-12T21:28:00.994402Z",
     "start_time": "2024-12-12T21:28:00.980760Z"
    }
   },
   "outputs": [],
   "source": [
    "dfCamaras = dfCamaras.merge(poblacion_alcaldia.reset_index(), on='alcaldia', how='left')\n",
    "dfCamaras['camaras_100k'] = (dfCamaras['totalCamaras']/dfCamaras['poblacion'])*100000\n",
    "dfCamaras = dfCamaras[['alcaldia','camaras_100k']]\n",
    "dfCamaras"
   ]
  },
  {
   "cell_type": "markdown",
   "id": "85ca560229ce92d0",
   "metadata": {},
   "source": [
    "# Union datos"
   ]
  },
  {
   "cell_type": "code",
   "execution_count": null,
   "id": "ab9f0b922fcc805c",
   "metadata": {
    "ExecuteTime": {
     "end_time": "2024-12-12T21:28:01.188122Z",
     "start_time": "2024-12-12T21:28:01.176019Z"
    }
   },
   "outputs": [],
   "source": [
    "robos_poblacion_df = robos_poblacion_df.reset_index()\n",
    "robos_poblacion_df = robos_poblacion_df[robos_poblacion_df['index'].isin(alcaldias_interes)]\n",
    "robos_poblacion_df = robos_poblacion_df[['index', 'tasa_robos']]\n",
    "robos_poblacion_df = robos_poblacion_df.rename(columns = {\"index\": \"alcaldia\"})\n",
    "robos_poblacion_df.head()"
   ]
  },
  {
   "cell_type": "code",
   "execution_count": null,
   "id": "e8e7372fad8221",
   "metadata": {
    "ExecuteTime": {
     "end_time": "2024-12-12T21:28:01.550169Z",
     "start_time": "2024-12-12T21:28:01.541431Z"
    }
   },
   "outputs": [],
   "source": [
    "agebs = agebs[['NOMGEO', 'densidad_poblacion']]\n",
    "agebs = agebs.rename(columns = {\"NOMGEO\": \"alcaldia\"})\n",
    "agebs"
   ]
  },
  {
   "cell_type": "code",
   "execution_count": null,
   "id": "fc284875483f5ca6",
   "metadata": {
    "ExecuteTime": {
     "end_time": "2024-12-12T21:28:01.777986Z",
     "start_time": "2024-12-12T21:28:01.770625Z"
    }
   },
   "outputs": [],
   "source": [
    "escolaridad = escolaridad.rename(columns = {\"NOMGEO\": \"alcaldia\", \"Grado de escolaridad promedio\": \"escolaridad\"})\n",
    "escolaridad"
   ]
  },
  {
   "cell_type": "code",
   "execution_count": null,
   "id": "b8b713aaea8a1c04",
   "metadata": {
    "ExecuteTime": {
     "end_time": "2024-12-12T21:28:02.096099Z",
     "start_time": "2024-12-12T21:28:02.087914Z"
    }
   },
   "outputs": [],
   "source": [
    "conteo_total_escuelas = conteo_total_escuelas.rename(columns = {\"NOMGEO\": \"alcaldia\"})\n",
    "conteo_total_escuelas"
   ]
  },
  {
   "cell_type": "code",
   "execution_count": null,
   "id": "965fc9c4e0647d85",
   "metadata": {
    "ExecuteTime": {
     "end_time": "2024-12-12T21:28:02.239764Z",
     "start_time": "2024-12-12T21:28:02.231685Z"
    }
   },
   "outputs": [],
   "source": [
    "dfUsoDeSuelo"
   ]
  },
  {
   "cell_type": "code",
   "execution_count": null,
   "id": "fa56ba1486e1ce25",
   "metadata": {
    "ExecuteTime": {
     "end_time": "2024-12-12T21:28:02.497246Z",
     "start_time": "2024-12-12T21:28:02.488548Z"
    }
   },
   "outputs": [],
   "source": [
    "dfCamaras = dfCamaras.rename(columns = {\"Delegación\": \"alcaldia\", \"Total Cámaras\": \"totalCamaras\"})\n",
    "dfCamaras"
   ]
  },
  {
   "cell_type": "code",
   "execution_count": null,
   "id": "44995a428e982a30",
   "metadata": {
    "ExecuteTime": {
     "end_time": "2024-12-12T21:28:02.790201Z",
     "start_time": "2024-12-12T21:28:02.766940Z"
    }
   },
   "outputs": [],
   "source": [
    "dfs = [robos_poblacion_df, agebs, escolaridad, conteo_total_escuelas, dfUsoDeSuelo, dfCamaras]\n",
    "df = reduce(lambda left, right: pd.merge(left, right, on='alcaldia', how='outer'), dfs)\n",
    "print(df.columns)\n",
    "df"
   ]
  },
  {
   "cell_type": "markdown",
   "id": "9a06bfe4a5a98f14",
   "metadata": {},
   "source": [
    "# Correlacion"
   ]
  },
  {
   "cell_type": "code",
   "execution_count": null,
   "id": "6c5159b52d23cf1d",
   "metadata": {
    "ExecuteTime": {
     "end_time": "2024-12-12T21:28:04.312421Z",
     "start_time": "2024-12-12T21:28:04.305169Z"
    }
   },
   "outputs": [],
   "source": [
    "df_numerico = df.drop(columns=['alcaldia'])\n",
    "correlaciones = df_numerico.corr()\n",
    "correlacion_tasa_robos = correlaciones['tasa_robos']\n",
    "correlacion_tasa_robos"
   ]
  },
  {
   "cell_type": "code",
   "execution_count": null,
   "id": "75d29327f1ec47c9",
   "metadata": {
    "ExecuteTime": {
     "end_time": "2024-12-12T21:28:41.821563Z",
     "start_time": "2024-12-12T21:28:41.459298Z"
    }
   },
   "outputs": [],
   "source": [
    "plt.figure(figsize=(10, 8))\n",
    "sns.heatmap(df_numerico.corr(), annot=True, cmap=\"coolwarm\", fmt=\".2f\", cbar=True)\n",
    "plt.title(\"Mapa de Calor de Correlaciones\")\n",
    "plt.show()"
   ]
  },
  {
   "cell_type": "code",
   "execution_count": null,
   "id": "96e587b2ca82a0da",
   "metadata": {
    "ExecuteTime": {
     "end_time": "2024-12-12T21:29:11.499287Z",
     "start_time": "2024-12-12T21:29:11.136094Z"
    }
   },
   "outputs": [],
   "source": [
    "# Ordenar las correlaciones con 'tasa_robos'\n",
    "correlacion_tasa_robos_sorted = correlacion_tasa_robos.drop('tasa_robos').sort_values()\n",
    "\n",
    "# Crear un gráfico de barras\n",
    "plt.figure(figsize=(8, 6))\n",
    "correlacion_tasa_robos_sorted.plot(kind='barh', color='skyblue')\n",
    "plt.title(\"Correlaciones con 'tasa_robos'\")\n",
    "plt.xlabel(\"Coeficiente de Correlación\")\n",
    "plt.ylabel(\"Variables\")\n",
    "plt.axvline(0, color='gray', linestyle='--')\n",
    "plt.show()\n"
   ]
  },
  {
   "cell_type": "code",
   "execution_count": null,
   "id": "fca6d21998184536",
   "metadata": {
    "ExecuteTime": {
     "end_time": "2024-12-12T21:32:29.584674Z",
     "start_time": "2024-12-12T21:32:29.204892Z"
    }
   },
   "outputs": [],
   "source": [
    "covarianza = df_numerico.cov()\n",
    "\n",
    "plt.figure(figsize=(10, 8))\n",
    "sns.heatmap(covarianza, annot=True, fmt=\".2f\", cmap=\"Blues\", cbar=True)\n",
    "plt.title(\"Mapa de Calor de Covarianzas\")\n",
    "plt.show()"
   ]
  },
  {
   "cell_type": "code",
   "execution_count": null,
   "id": "f51359f5c16af6b",
   "metadata": {
    "ExecuteTime": {
     "end_time": "2024-12-12T21:36:01.882777Z",
     "start_time": "2024-12-12T21:36:01.570908Z"
    }
   },
   "outputs": [],
   "source": [
    "from sklearn.model_selection import train_test_split\n",
    "from sklearn.linear_model import LinearRegression\n",
    "from sklearn.metrics import mean_squared_error, r2_score\n",
    "\n",
    "# Variables dependiente e independientes\n",
    "X = df_numerico.drop(columns=['tasa_robos'])  # Variables independientes\n",
    "y = df_numerico['tasa_robos']  # Variable dependiente\n",
    "\n",
    "# Dividir los datos en conjunto de entrenamiento y prueba\n",
    "X_train, X_test, y_train, y_test = train_test_split(X, y, test_size=0.2, random_state=42)\n",
    "\n",
    "# Crear y entrenar el modelo de regresión lineal\n",
    "modelo = LinearRegression()\n",
    "modelo.fit(X_train, y_train)\n",
    "\n",
    "# Predicciones en el conjunto de prueba\n",
    "y_pred = modelo.predict(X_test)\n",
    "\n",
    "# Evaluación del modelo\n",
    "mse = mean_squared_error(y_test, y_pred)  # Error cuadrático medio\n",
    "r2 = r2_score(y_test, y_pred)  # Coeficiente R²\n",
    "\n",
    "print(\"Coeficientes:\", modelo.coef_)\n",
    "print(\"Intercepto:\", modelo.intercept_)\n",
    "print(\"MSE:\", mse)\n",
    "print(\"R²:\", r2)"
   ]
  },
  {
   "cell_type": "code",
   "execution_count": null,
   "id": "d8dac7d2b5ca2247",
   "metadata": {},
   "outputs": [],
   "source": []
  }
 ],
 "metadata": {
  "kernelspec": {
   "display_name": "Python 3",
   "language": "python",
   "name": "python3"
  },
  "language_info": {
   "codemirror_mode": {
    "name": "ipython",
    "version": 2
   },
   "file_extension": ".py",
   "mimetype": "text/x-python",
   "name": "python",
   "nbconvert_exporter": "python",
   "pygments_lexer": "ipython2",
   "version": "2.7.6"
  }
 },
 "nbformat": 4,
 "nbformat_minor": 5
}
