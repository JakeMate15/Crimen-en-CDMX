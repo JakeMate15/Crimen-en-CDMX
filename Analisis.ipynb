{
 "cells": [
  {
   "metadata": {},
   "cell_type": "markdown",
   "source": [
    "# Análisis de Robos a Transeúntes en Vía Pública\n",
    "\n",
    "Este notebook realiza un análisis de robos a transeúntes en vía pública con y sin violencia en la Ciudad de México. Se incluyen la carga y limpieza de datos, análisis exploratorio y visualización geoespacial.\n"
   ],
   "id": "45c2703f503894ec"
  },
  {
   "cell_type": "code",
   "id": "initial_id",
   "metadata": {
    "collapsed": true,
    "ExecuteTime": {
     "end_time": "2024-12-09T03:24:10.147678Z",
     "start_time": "2024-12-09T03:24:10.013430Z"
    }
   },
   "source": [
    "import pandas as pd\n",
    "import geopandas as gpd\n",
    "import matplotlib.pyplot as plt\n",
    "import shapely.geometry as sg\n",
    "import seaborn as sns\n",
    "import numpy as np\n",
    "\n",
    "# sns.set(style=\"whitegrid\")"
   ],
   "outputs": [],
   "execution_count": 1
  },
  {
   "metadata": {},
   "cell_type": "markdown",
   "source": [
    "## 1. Carga y Limpieza de Datos de Crímenes\n",
    "\n",
    "Cargamos los datos de delitos y realizamos una limpieza inicial.\n"
   ],
   "id": "9a4d0be0e38de9b"
  },
  {
   "metadata": {
    "ExecuteTime": {
     "end_time": "2024-12-09T03:24:10.411127Z",
     "start_time": "2024-12-09T03:24:10.174172Z"
    }
   },
   "cell_type": "code",
   "source": [
    "# Carga de datos de crímenes\n",
    "crimen = pd.read_csv('delitos.csv', skiprows=1)\n",
    "\n",
    "# Corrección de nombres de alcaldías\n",
    "crimen.replace('GUSTAVO A MADERO', 'GUSTAVO A. MADERO', inplace=True)\n",
    "\n",
    "# Información general del DataFrame\n",
    "print(f\"Dimensiones del DataFrame: {crimen.shape}\")\n",
    "crimen.head()"
   ],
   "id": "2e01182f5a504e0e",
   "outputs": [
    {
     "name": "stdout",
     "output_type": "stream",
     "text": [
      "Dimensiones del DataFrame: (32196, 19)\n"
     ]
    },
    {
     "data": {
      "text/plain": [
       "   ID    ID_CI FECHA DE INICIO HORA DE INICIO CT - INICIO AP  TIPO IMPACTO  \\\n",
       "0   1  8601246      01/01/2020          11:05             H1  ALTO IMPACTO   \n",
       "1   2  8601195      01/01/2020          05:59              2  ALTO IMPACTO   \n",
       "2   3  8601218      01/01/2020          08:43              2  ALTO IMPACTO   \n",
       "3   4  8601245      01/01/2020          11:04          IZP-9  ALTO IMPACTO   \n",
       "4   5  8601242      01/01/2020          10:53             H3  ALTO IMPACTO   \n",
       "\n",
       "             DELITO           MODALIDAD - DELITO FECHA DE LOS HECHOS  \\\n",
       "0  HOMICIDIO DOLOSO    HOMICIDIO POR ARMA BLANCA          01/01/2020   \n",
       "1  HOMICIDIO DOLOSO  HOMICIDIO POR ARMA DE FUEGO          01/01/2020   \n",
       "2  HOMICIDIO DOLOSO  HOMICIDIO POR ARMA DE FUEGO          01/01/2020   \n",
       "3  HOMICIDIO DOLOSO  HOMICIDIO POR ARMA DE FUEGO          01/01/2020   \n",
       "4  HOMICIDIO DOLOSO         HOMICIDIO POR GOLPES          30/12/2019   \n",
       "\n",
       "  HORA DE LOS HECHOS             CALLE 1 HECHOS             CALLE 2 HECHOS  \\\n",
       "0              09:55  F.C. NACIONALES DE MEXICO         AND. NUEVA GALICIA   \n",
       "1              04:50     15 Y AVENIDA GUADALUPE               SIN REGISTRO   \n",
       "2              07:30                    PIRULES               SIN REGISTRO   \n",
       "3              11:00                      elisa               SIN REGISTRO   \n",
       "4              06:30                      DALIA  JOSEFA ORTIZ DE DOMINGUEZ   \n",
       "\n",
       "                         COLONIA HECHOS    ALCALDÍA HECHOS CT HECHOS  \\\n",
       "0                          NUEVA ESPAÑA       AZCAPOTZALCO      AZ-1   \n",
       "1                  GUADALUPE PROLETARIA  GUSTAVO A. MADERO     GAM-2   \n",
       "2                             TLALPEXCO  GUSTAVO A. MADERO     GAM-1   \n",
       "3  2A. AMPLIACIÓN SANTIAGO ACAHUALTEPEC         IZTAPALAPA    IZP-10   \n",
       "4                    BARRIO SAN ESTEBAN         XOCHIMILCO      XO-2   \n",
       "\n",
       "        COORD X      COORD Y  \\\n",
       "0  -99.18972843  19.49874581   \n",
       "1  -99.15697157  19.52171133   \n",
       "2  -99.12876972  19.54421028   \n",
       "3  -99.01514062  19.34773094   \n",
       "4  -99.09859972  19.26437498   \n",
       "\n",
       "                                         OBSERVACIÓN  Unnamed: 18  \n",
       "0  LAS COORDENADAS QUE SE MUESTRAN NO CORRESPONDE...          NaN  \n",
       "1  LAS COORDENADAS QUE SE MUESTRAN NO CORRESPONDE...          NaN  \n",
       "2  LAS COORDENADAS QUE SE MUESTRAN NO CORRESPONDE...          NaN  \n",
       "3  LAS COORDENADAS QUE SE MUESTRAN NO CORRESPONDE...          NaN  \n",
       "4  LAS COORDENADAS QUE SE MUESTRAN NO CORRESPONDE...          NaN  "
      ],
      "text/html": [
       "<div>\n",
       "<style scoped>\n",
       "    .dataframe tbody tr th:only-of-type {\n",
       "        vertical-align: middle;\n",
       "    }\n",
       "\n",
       "    .dataframe tbody tr th {\n",
       "        vertical-align: top;\n",
       "    }\n",
       "\n",
       "    .dataframe thead th {\n",
       "        text-align: right;\n",
       "    }\n",
       "</style>\n",
       "<table border=\"1\" class=\"dataframe\">\n",
       "  <thead>\n",
       "    <tr style=\"text-align: right;\">\n",
       "      <th></th>\n",
       "      <th>ID</th>\n",
       "      <th>ID_CI</th>\n",
       "      <th>FECHA DE INICIO</th>\n",
       "      <th>HORA DE INICIO</th>\n",
       "      <th>CT - INICIO AP</th>\n",
       "      <th>TIPO IMPACTO</th>\n",
       "      <th>DELITO</th>\n",
       "      <th>MODALIDAD - DELITO</th>\n",
       "      <th>FECHA DE LOS HECHOS</th>\n",
       "      <th>HORA DE LOS HECHOS</th>\n",
       "      <th>CALLE 1 HECHOS</th>\n",
       "      <th>CALLE 2 HECHOS</th>\n",
       "      <th>COLONIA HECHOS</th>\n",
       "      <th>ALCALDÍA HECHOS</th>\n",
       "      <th>CT HECHOS</th>\n",
       "      <th>COORD X</th>\n",
       "      <th>COORD Y</th>\n",
       "      <th>OBSERVACIÓN</th>\n",
       "      <th>Unnamed: 18</th>\n",
       "    </tr>\n",
       "  </thead>\n",
       "  <tbody>\n",
       "    <tr>\n",
       "      <th>0</th>\n",
       "      <td>1</td>\n",
       "      <td>8601246</td>\n",
       "      <td>01/01/2020</td>\n",
       "      <td>11:05</td>\n",
       "      <td>H1</td>\n",
       "      <td>ALTO IMPACTO</td>\n",
       "      <td>HOMICIDIO DOLOSO</td>\n",
       "      <td>HOMICIDIO POR ARMA BLANCA</td>\n",
       "      <td>01/01/2020</td>\n",
       "      <td>09:55</td>\n",
       "      <td>F.C. NACIONALES DE MEXICO</td>\n",
       "      <td>AND. NUEVA GALICIA</td>\n",
       "      <td>NUEVA ESPAÑA</td>\n",
       "      <td>AZCAPOTZALCO</td>\n",
       "      <td>AZ-1</td>\n",
       "      <td>-99.18972843</td>\n",
       "      <td>19.49874581</td>\n",
       "      <td>LAS COORDENADAS QUE SE MUESTRAN NO CORRESPONDE...</td>\n",
       "      <td>NaN</td>\n",
       "    </tr>\n",
       "    <tr>\n",
       "      <th>1</th>\n",
       "      <td>2</td>\n",
       "      <td>8601195</td>\n",
       "      <td>01/01/2020</td>\n",
       "      <td>05:59</td>\n",
       "      <td>2</td>\n",
       "      <td>ALTO IMPACTO</td>\n",
       "      <td>HOMICIDIO DOLOSO</td>\n",
       "      <td>HOMICIDIO POR ARMA DE FUEGO</td>\n",
       "      <td>01/01/2020</td>\n",
       "      <td>04:50</td>\n",
       "      <td>15 Y AVENIDA GUADALUPE</td>\n",
       "      <td>SIN REGISTRO</td>\n",
       "      <td>GUADALUPE PROLETARIA</td>\n",
       "      <td>GUSTAVO A. MADERO</td>\n",
       "      <td>GAM-2</td>\n",
       "      <td>-99.15697157</td>\n",
       "      <td>19.52171133</td>\n",
       "      <td>LAS COORDENADAS QUE SE MUESTRAN NO CORRESPONDE...</td>\n",
       "      <td>NaN</td>\n",
       "    </tr>\n",
       "    <tr>\n",
       "      <th>2</th>\n",
       "      <td>3</td>\n",
       "      <td>8601218</td>\n",
       "      <td>01/01/2020</td>\n",
       "      <td>08:43</td>\n",
       "      <td>2</td>\n",
       "      <td>ALTO IMPACTO</td>\n",
       "      <td>HOMICIDIO DOLOSO</td>\n",
       "      <td>HOMICIDIO POR ARMA DE FUEGO</td>\n",
       "      <td>01/01/2020</td>\n",
       "      <td>07:30</td>\n",
       "      <td>PIRULES</td>\n",
       "      <td>SIN REGISTRO</td>\n",
       "      <td>TLALPEXCO</td>\n",
       "      <td>GUSTAVO A. MADERO</td>\n",
       "      <td>GAM-1</td>\n",
       "      <td>-99.12876972</td>\n",
       "      <td>19.54421028</td>\n",
       "      <td>LAS COORDENADAS QUE SE MUESTRAN NO CORRESPONDE...</td>\n",
       "      <td>NaN</td>\n",
       "    </tr>\n",
       "    <tr>\n",
       "      <th>3</th>\n",
       "      <td>4</td>\n",
       "      <td>8601245</td>\n",
       "      <td>01/01/2020</td>\n",
       "      <td>11:04</td>\n",
       "      <td>IZP-9</td>\n",
       "      <td>ALTO IMPACTO</td>\n",
       "      <td>HOMICIDIO DOLOSO</td>\n",
       "      <td>HOMICIDIO POR ARMA DE FUEGO</td>\n",
       "      <td>01/01/2020</td>\n",
       "      <td>11:00</td>\n",
       "      <td>elisa</td>\n",
       "      <td>SIN REGISTRO</td>\n",
       "      <td>2A. AMPLIACIÓN SANTIAGO ACAHUALTEPEC</td>\n",
       "      <td>IZTAPALAPA</td>\n",
       "      <td>IZP-10</td>\n",
       "      <td>-99.01514062</td>\n",
       "      <td>19.34773094</td>\n",
       "      <td>LAS COORDENADAS QUE SE MUESTRAN NO CORRESPONDE...</td>\n",
       "      <td>NaN</td>\n",
       "    </tr>\n",
       "    <tr>\n",
       "      <th>4</th>\n",
       "      <td>5</td>\n",
       "      <td>8601242</td>\n",
       "      <td>01/01/2020</td>\n",
       "      <td>10:53</td>\n",
       "      <td>H3</td>\n",
       "      <td>ALTO IMPACTO</td>\n",
       "      <td>HOMICIDIO DOLOSO</td>\n",
       "      <td>HOMICIDIO POR GOLPES</td>\n",
       "      <td>30/12/2019</td>\n",
       "      <td>06:30</td>\n",
       "      <td>DALIA</td>\n",
       "      <td>JOSEFA ORTIZ DE DOMINGUEZ</td>\n",
       "      <td>BARRIO SAN ESTEBAN</td>\n",
       "      <td>XOCHIMILCO</td>\n",
       "      <td>XO-2</td>\n",
       "      <td>-99.09859972</td>\n",
       "      <td>19.26437498</td>\n",
       "      <td>LAS COORDENADAS QUE SE MUESTRAN NO CORRESPONDE...</td>\n",
       "      <td>NaN</td>\n",
       "    </tr>\n",
       "  </tbody>\n",
       "</table>\n",
       "</div>"
      ]
     },
     "execution_count": 2,
     "metadata": {},
     "output_type": "execute_result"
    }
   ],
   "execution_count": 2
  },
  {
   "metadata": {},
   "cell_type": "markdown",
   "source": [
    "### Exploración de Columnas y Tipos de Delitos\n",
    "\n",
    "Revisamos las columnas disponibles y la distribución de los tipos de delitos."
   ],
   "id": "5700be874aed79d3"
  },
  {
   "metadata": {
    "ExecuteTime": {
     "end_time": "2024-12-09T03:24:10.501642Z",
     "start_time": "2024-12-09T03:24:10.496526Z"
    }
   },
   "cell_type": "code",
   "source": [
    "# Exploración de columnas y conteo de tipos de delitos\n",
    "print(\"Columnas del DataFrame:\", crimen.columns.tolist())\n",
    "print(\"\\nConteo de tipos de delitos:\")\n",
    "print(crimen['DELITO'].value_counts())\n"
   ],
   "id": "ede0468bccb7cd24",
   "outputs": [
    {
     "name": "stdout",
     "output_type": "stream",
     "text": [
      "Columnas del DataFrame: ['ID', 'ID_CI', 'FECHA DE INICIO', 'HORA DE INICIO', 'CT - INICIO AP', 'TIPO IMPACTO', 'DELITO', 'MODALIDAD - DELITO', 'FECHA DE LOS HECHOS', 'HORA DE LOS HECHOS', 'CALLE 1 HECHOS', 'CALLE 2 HECHOS', 'COLONIA HECHOS', 'ALCALDÍA HECHOS', 'CT HECHOS', 'COORD X', 'COORD Y', 'OBSERVACIÓN', 'Unnamed: 18']\n",
      "\n",
      "Conteo de tipos de delitos:\n",
      "DELITO\n",
      "ROBO A TRANSEUNTE EN VÍA PÚBLICA CON Y SIN VIOLENCIA       10189\n",
      "ROBO DE VEHÍCULO CON Y SIN VIOLENCIA                       10018\n",
      "ROBO A NEGOCIO CON VIOLENCIA                                3514\n",
      "ROBO A REPARTIDOR CON Y SIN VIOLENCIA                       2349\n",
      "VIOLACIÓN                                                   1505\n",
      "HOMICIDIO DOLOSO                                            1206\n",
      "LESIONES DOLOSAS POR DISPARO DE ARMA DE FUEGO                871\n",
      "ROBO A PASAJERO A BORDO DEL METRO CON Y SIN VIOLENCIA        782\n",
      "ROBO A CASA HABITACIÓN CON VIOLENCIA                         633\n",
      "ROBO A PASAJERO A BORDO DE MICROBUS CON Y SIN VIOLENCIA      504\n",
      "ROBO A CUENTAHABIENTE SALIENDO DEL CAJERO CON VIOLENCIA      361\n",
      "ROBO A PASAJERO A BORDO DE TAXI CON VIOLENCIA                156\n",
      "ROBO A TRANSPORTISTA CON Y SIN VIOLENCIA                      78\n",
      "SECUESTRO                                                     30\n",
      "Name: count, dtype: int64\n"
     ]
    }
   ],
   "execution_count": 3
  },
  {
   "metadata": {},
   "cell_type": "markdown",
   "source": [
    "### Filtrado de Robos a Transeúntes en Vía Pública\n",
    "\n",
    "Filtramos el DataFrame para mantener solo los robos a transeúntes en vía pública con y sin violencia.\n"
   ],
   "id": "4244615325df8e7e"
  },
  {
   "metadata": {
    "ExecuteTime": {
     "end_time": "2024-12-09T03:24:10.567019Z",
     "start_time": "2024-12-09T03:24:10.550732Z"
    }
   },
   "cell_type": "code",
   "source": [
    "# Filtrado de delitos específicos\n",
    "crimen = crimen[crimen['DELITO'] == 'ROBO A TRANSEUNTE EN VÍA PÚBLICA CON Y SIN VIOLENCIA']\n",
    "print(f\"Dimensiones después del filtrado: {crimen.shape}\")\n",
    "crimen.head()\n"
   ],
   "id": "87a89ecc8c05a342",
   "outputs": [
    {
     "name": "stdout",
     "output_type": "stream",
     "text": [
      "Dimensiones después del filtrado: (10189, 19)\n"
     ]
    },
    {
     "data": {
      "text/plain": [
       "    ID    ID_CI FECHA DE INICIO HORA DE INICIO CT - INICIO AP  TIPO IMPACTO  \\\n",
       "15  16  8601220      01/01/2020          09:28           AZ-2  ALTO IMPACTO   \n",
       "16  17  8601417      01/01/2020          20:57           BJ-2  ALTO IMPACTO   \n",
       "17  18  8601175      01/01/2020          01:33          CUH-2  ALTO IMPACTO   \n",
       "18  19  8601353      01/01/2020          16:44          CUH-2  ALTO IMPACTO   \n",
       "19  20  8601367      01/01/2020          17:52          CUH-2  ALTO IMPACTO   \n",
       "\n",
       "                                               DELITO  \\\n",
       "15  ROBO A TRANSEUNTE EN VÍA PÚBLICA CON Y SIN VIO...   \n",
       "16  ROBO A TRANSEUNTE EN VÍA PÚBLICA CON Y SIN VIO...   \n",
       "17  ROBO A TRANSEUNTE EN VÍA PÚBLICA CON Y SIN VIO...   \n",
       "18  ROBO A TRANSEUNTE EN VÍA PÚBLICA CON Y SIN VIO...   \n",
       "19  ROBO A TRANSEUNTE EN VÍA PÚBLICA CON Y SIN VIO...   \n",
       "\n",
       "                                MODALIDAD - DELITO FECHA DE LOS HECHOS  \\\n",
       "15  ROBO A TRANSEUNTE EN VIA PUBLICA CON VIOLENCIA          01/01/2020   \n",
       "16  ROBO A TRANSEUNTE EN VIA PUBLICA CON VIOLENCIA          01/01/2020   \n",
       "17  ROBO A TRANSEUNTE EN VIA PUBLICA CON VIOLENCIA          01/01/2020   \n",
       "18  ROBO A TRANSEUNTE EN VIA PUBLICA CON VIOLENCIA          01/01/2020   \n",
       "19  ROBO A TRANSEUNTE EN VIA PUBLICA CON VIOLENCIA          01/01/2020   \n",
       "\n",
       "   HORA DE LOS HECHOS             CALLE 1 HECHOS   CALLE 2 HECHOS  \\\n",
       "15              08:49             AV. EL ROSARIO    CULTURA NORTE   \n",
       "16              19:45  CERRADA DE MIGUEL NEGRETE          BOLIVAR   \n",
       "17              00:50    AV. PASEO DE LA REFORMA     SIN REGISTRO   \n",
       "18              15:30                  LUIS MOYA          PUGIBET   \n",
       "19              17:20    MANUEL DE LAPEÑA Y PEÑA  GONZALEZ ORTEGA   \n",
       "\n",
       "   COLONIA HECHOS ALCALDÍA HECHOS CT HECHOS       COORD X      COORD Y  \\\n",
       "15     EL ROSARIO    AZCAPOTZALCO      AZ-1  -99.20273257  19.50148613   \n",
       "16   NIÑOS HÉROES   BENITO JUAREZ      BJ-3  -99.14583393  19.38568257   \n",
       "17     CUAUHTÉMOC      CUAUHTEMOC     CUH-5  -99.16452756  19.42931902   \n",
       "18         CENTRO      CUAUHTEMOC     CUH-6  -99.14571496  19.42973786   \n",
       "19         CENTRO      CUAUHTEMOC     CUH-4  -99.12597352  19.44014235   \n",
       "\n",
       "                                          OBSERVACIÓN  Unnamed: 18  \n",
       "15  LAS COORDENADAS QUE SE MUESTRAN NO CORRESPONDE...          NaN  \n",
       "16  LAS COORDENADAS QUE SE MUESTRAN NO CORRESPONDE...          NaN  \n",
       "17  LAS COORDENADAS QUE SE MUESTRAN NO CORRESPONDE...          NaN  \n",
       "18  LAS COORDENADAS QUE SE MUESTRAN NO CORRESPONDE...          NaN  \n",
       "19  LAS COORDENADAS QUE SE MUESTRAN NO CORRESPONDE...          NaN  "
      ],
      "text/html": [
       "<div>\n",
       "<style scoped>\n",
       "    .dataframe tbody tr th:only-of-type {\n",
       "        vertical-align: middle;\n",
       "    }\n",
       "\n",
       "    .dataframe tbody tr th {\n",
       "        vertical-align: top;\n",
       "    }\n",
       "\n",
       "    .dataframe thead th {\n",
       "        text-align: right;\n",
       "    }\n",
       "</style>\n",
       "<table border=\"1\" class=\"dataframe\">\n",
       "  <thead>\n",
       "    <tr style=\"text-align: right;\">\n",
       "      <th></th>\n",
       "      <th>ID</th>\n",
       "      <th>ID_CI</th>\n",
       "      <th>FECHA DE INICIO</th>\n",
       "      <th>HORA DE INICIO</th>\n",
       "      <th>CT - INICIO AP</th>\n",
       "      <th>TIPO IMPACTO</th>\n",
       "      <th>DELITO</th>\n",
       "      <th>MODALIDAD - DELITO</th>\n",
       "      <th>FECHA DE LOS HECHOS</th>\n",
       "      <th>HORA DE LOS HECHOS</th>\n",
       "      <th>CALLE 1 HECHOS</th>\n",
       "      <th>CALLE 2 HECHOS</th>\n",
       "      <th>COLONIA HECHOS</th>\n",
       "      <th>ALCALDÍA HECHOS</th>\n",
       "      <th>CT HECHOS</th>\n",
       "      <th>COORD X</th>\n",
       "      <th>COORD Y</th>\n",
       "      <th>OBSERVACIÓN</th>\n",
       "      <th>Unnamed: 18</th>\n",
       "    </tr>\n",
       "  </thead>\n",
       "  <tbody>\n",
       "    <tr>\n",
       "      <th>15</th>\n",
       "      <td>16</td>\n",
       "      <td>8601220</td>\n",
       "      <td>01/01/2020</td>\n",
       "      <td>09:28</td>\n",
       "      <td>AZ-2</td>\n",
       "      <td>ALTO IMPACTO</td>\n",
       "      <td>ROBO A TRANSEUNTE EN VÍA PÚBLICA CON Y SIN VIO...</td>\n",
       "      <td>ROBO A TRANSEUNTE EN VIA PUBLICA CON VIOLENCIA</td>\n",
       "      <td>01/01/2020</td>\n",
       "      <td>08:49</td>\n",
       "      <td>AV. EL ROSARIO</td>\n",
       "      <td>CULTURA NORTE</td>\n",
       "      <td>EL ROSARIO</td>\n",
       "      <td>AZCAPOTZALCO</td>\n",
       "      <td>AZ-1</td>\n",
       "      <td>-99.20273257</td>\n",
       "      <td>19.50148613</td>\n",
       "      <td>LAS COORDENADAS QUE SE MUESTRAN NO CORRESPONDE...</td>\n",
       "      <td>NaN</td>\n",
       "    </tr>\n",
       "    <tr>\n",
       "      <th>16</th>\n",
       "      <td>17</td>\n",
       "      <td>8601417</td>\n",
       "      <td>01/01/2020</td>\n",
       "      <td>20:57</td>\n",
       "      <td>BJ-2</td>\n",
       "      <td>ALTO IMPACTO</td>\n",
       "      <td>ROBO A TRANSEUNTE EN VÍA PÚBLICA CON Y SIN VIO...</td>\n",
       "      <td>ROBO A TRANSEUNTE EN VIA PUBLICA CON VIOLENCIA</td>\n",
       "      <td>01/01/2020</td>\n",
       "      <td>19:45</td>\n",
       "      <td>CERRADA DE MIGUEL NEGRETE</td>\n",
       "      <td>BOLIVAR</td>\n",
       "      <td>NIÑOS HÉROES</td>\n",
       "      <td>BENITO JUAREZ</td>\n",
       "      <td>BJ-3</td>\n",
       "      <td>-99.14583393</td>\n",
       "      <td>19.38568257</td>\n",
       "      <td>LAS COORDENADAS QUE SE MUESTRAN NO CORRESPONDE...</td>\n",
       "      <td>NaN</td>\n",
       "    </tr>\n",
       "    <tr>\n",
       "      <th>17</th>\n",
       "      <td>18</td>\n",
       "      <td>8601175</td>\n",
       "      <td>01/01/2020</td>\n",
       "      <td>01:33</td>\n",
       "      <td>CUH-2</td>\n",
       "      <td>ALTO IMPACTO</td>\n",
       "      <td>ROBO A TRANSEUNTE EN VÍA PÚBLICA CON Y SIN VIO...</td>\n",
       "      <td>ROBO A TRANSEUNTE EN VIA PUBLICA CON VIOLENCIA</td>\n",
       "      <td>01/01/2020</td>\n",
       "      <td>00:50</td>\n",
       "      <td>AV. PASEO DE LA REFORMA</td>\n",
       "      <td>SIN REGISTRO</td>\n",
       "      <td>CUAUHTÉMOC</td>\n",
       "      <td>CUAUHTEMOC</td>\n",
       "      <td>CUH-5</td>\n",
       "      <td>-99.16452756</td>\n",
       "      <td>19.42931902</td>\n",
       "      <td>LAS COORDENADAS QUE SE MUESTRAN NO CORRESPONDE...</td>\n",
       "      <td>NaN</td>\n",
       "    </tr>\n",
       "    <tr>\n",
       "      <th>18</th>\n",
       "      <td>19</td>\n",
       "      <td>8601353</td>\n",
       "      <td>01/01/2020</td>\n",
       "      <td>16:44</td>\n",
       "      <td>CUH-2</td>\n",
       "      <td>ALTO IMPACTO</td>\n",
       "      <td>ROBO A TRANSEUNTE EN VÍA PÚBLICA CON Y SIN VIO...</td>\n",
       "      <td>ROBO A TRANSEUNTE EN VIA PUBLICA CON VIOLENCIA</td>\n",
       "      <td>01/01/2020</td>\n",
       "      <td>15:30</td>\n",
       "      <td>LUIS MOYA</td>\n",
       "      <td>PUGIBET</td>\n",
       "      <td>CENTRO</td>\n",
       "      <td>CUAUHTEMOC</td>\n",
       "      <td>CUH-6</td>\n",
       "      <td>-99.14571496</td>\n",
       "      <td>19.42973786</td>\n",
       "      <td>LAS COORDENADAS QUE SE MUESTRAN NO CORRESPONDE...</td>\n",
       "      <td>NaN</td>\n",
       "    </tr>\n",
       "    <tr>\n",
       "      <th>19</th>\n",
       "      <td>20</td>\n",
       "      <td>8601367</td>\n",
       "      <td>01/01/2020</td>\n",
       "      <td>17:52</td>\n",
       "      <td>CUH-2</td>\n",
       "      <td>ALTO IMPACTO</td>\n",
       "      <td>ROBO A TRANSEUNTE EN VÍA PÚBLICA CON Y SIN VIO...</td>\n",
       "      <td>ROBO A TRANSEUNTE EN VIA PUBLICA CON VIOLENCIA</td>\n",
       "      <td>01/01/2020</td>\n",
       "      <td>17:20</td>\n",
       "      <td>MANUEL DE LAPEÑA Y PEÑA</td>\n",
       "      <td>GONZALEZ ORTEGA</td>\n",
       "      <td>CENTRO</td>\n",
       "      <td>CUAUHTEMOC</td>\n",
       "      <td>CUH-4</td>\n",
       "      <td>-99.12597352</td>\n",
       "      <td>19.44014235</td>\n",
       "      <td>LAS COORDENADAS QUE SE MUESTRAN NO CORRESPONDE...</td>\n",
       "      <td>NaN</td>\n",
       "    </tr>\n",
       "  </tbody>\n",
       "</table>\n",
       "</div>"
      ]
     },
     "execution_count": 4,
     "metadata": {},
     "output_type": "execute_result"
    }
   ],
   "execution_count": 4
  },
  {
   "metadata": {},
   "cell_type": "markdown",
   "source": [
    "### Agrupación de Robos por Alcaldía\n",
    "\n",
    "Agrupamos los robos por alcaldía para obtener el conteo de incidentes por cada una.\n"
   ],
   "id": "3b9a1339cfc227c2"
  },
  {
   "metadata": {
    "ExecuteTime": {
     "end_time": "2024-12-09T03:24:10.752880Z",
     "start_time": "2024-12-09T03:24:10.746385Z"
    }
   },
   "cell_type": "code",
   "source": [
    "# Agrupación de robos por alcaldía\n",
    "robos_alcaldia = crimen.groupby('ALCALDÍA HECHOS')['DELITO'].count()\n",
    "print(\"Robos por Alcaldía:\")\n",
    "print(robos_alcaldia)\n"
   ],
   "id": "f91a5c007a558749",
   "outputs": [
    {
     "name": "stdout",
     "output_type": "stream",
     "text": [
      "Robos por Alcaldía:\n",
      "ALCALDÍA HECHOS\n",
      "ALVARO OBREGON             858\n",
      "AZCAPOTZALCO               507\n",
      "BENITO JUAREZ              586\n",
      "COYOACAN                   561\n",
      "CUAJIMALPA DE MORELOS       70\n",
      "CUAUHTEMOC                1386\n",
      "GUSTAVO A. MADERO          983\n",
      "IZTACALCO                  458\n",
      "IZTAPALAPA                1898\n",
      "LA MAGDALENA CONTRERAS     123\n",
      "MIGUEL HIDALGO             934\n",
      "MILPA ALTA                  54\n",
      "SIN REGISTRO                 2\n",
      "TLAHUAC                    337\n",
      "TLALPAN                    329\n",
      "VENUSTIANO CARRANZA        808\n",
      "XOCHIMILCO                 295\n",
      "Name: DELITO, dtype: int64\n"
     ]
    }
   ],
   "execution_count": 5
  },
  {
   "metadata": {},
   "cell_type": "markdown",
   "source": [
    "## 2. Carga y Procesamiento de Datos de Población\n",
    "\n",
    "Cargamos los datos de población y los agrupamos por alcaldía para analizarlos junto con los datos de robos.\n"
   ],
   "id": "d55296905a3a30f5"
  },
  {
   "metadata": {
    "ExecuteTime": {
     "end_time": "2024-12-09T03:24:11.024638Z",
     "start_time": "2024-12-09T03:24:11.010192Z"
    }
   },
   "cell_type": "code",
   "source": [
    "# Carga de datos de población\n",
    "poblacion = pd.read_csv('poblacion.csv')\n",
    "poblacion.head()"
   ],
   "id": "cfbf8e1cfbbf4bff",
   "outputs": [
    {
     "data": {
      "text/plain": [
       "       alcaldia     localidad    sexo       rango_edad  poblacion\n",
       "0  AZCAPOTZALCO  Azcapotzalco  Hombre    a) 0 a 4 años      10794\n",
       "1  AZCAPOTZALCO  Azcapotzalco  Hombre    b) 5 a 9 años      11950\n",
       "2  AZCAPOTZALCO  Azcapotzalco  Hombre  c) 10 a 14 años      13219\n",
       "3  AZCAPOTZALCO  Azcapotzalco  Hombre  d) 15 a 19 años      14272\n",
       "4  AZCAPOTZALCO  Azcapotzalco  Hombre  e) 20 a 24 años      15895"
      ],
      "text/html": [
       "<div>\n",
       "<style scoped>\n",
       "    .dataframe tbody tr th:only-of-type {\n",
       "        vertical-align: middle;\n",
       "    }\n",
       "\n",
       "    .dataframe tbody tr th {\n",
       "        vertical-align: top;\n",
       "    }\n",
       "\n",
       "    .dataframe thead th {\n",
       "        text-align: right;\n",
       "    }\n",
       "</style>\n",
       "<table border=\"1\" class=\"dataframe\">\n",
       "  <thead>\n",
       "    <tr style=\"text-align: right;\">\n",
       "      <th></th>\n",
       "      <th>alcaldia</th>\n",
       "      <th>localidad</th>\n",
       "      <th>sexo</th>\n",
       "      <th>rango_edad</th>\n",
       "      <th>poblacion</th>\n",
       "    </tr>\n",
       "  </thead>\n",
       "  <tbody>\n",
       "    <tr>\n",
       "      <th>0</th>\n",
       "      <td>AZCAPOTZALCO</td>\n",
       "      <td>Azcapotzalco</td>\n",
       "      <td>Hombre</td>\n",
       "      <td>a) 0 a 4 años</td>\n",
       "      <td>10794</td>\n",
       "    </tr>\n",
       "    <tr>\n",
       "      <th>1</th>\n",
       "      <td>AZCAPOTZALCO</td>\n",
       "      <td>Azcapotzalco</td>\n",
       "      <td>Hombre</td>\n",
       "      <td>b) 5 a 9 años</td>\n",
       "      <td>11950</td>\n",
       "    </tr>\n",
       "    <tr>\n",
       "      <th>2</th>\n",
       "      <td>AZCAPOTZALCO</td>\n",
       "      <td>Azcapotzalco</td>\n",
       "      <td>Hombre</td>\n",
       "      <td>c) 10 a 14 años</td>\n",
       "      <td>13219</td>\n",
       "    </tr>\n",
       "    <tr>\n",
       "      <th>3</th>\n",
       "      <td>AZCAPOTZALCO</td>\n",
       "      <td>Azcapotzalco</td>\n",
       "      <td>Hombre</td>\n",
       "      <td>d) 15 a 19 años</td>\n",
       "      <td>14272</td>\n",
       "    </tr>\n",
       "    <tr>\n",
       "      <th>4</th>\n",
       "      <td>AZCAPOTZALCO</td>\n",
       "      <td>Azcapotzalco</td>\n",
       "      <td>Hombre</td>\n",
       "      <td>e) 20 a 24 años</td>\n",
       "      <td>15895</td>\n",
       "    </tr>\n",
       "  </tbody>\n",
       "</table>\n",
       "</div>"
      ]
     },
     "execution_count": 6,
     "metadata": {},
     "output_type": "execute_result"
    }
   ],
   "execution_count": 6
  },
  {
   "metadata": {},
   "cell_type": "markdown",
   "source": [
    "### Agrupación de Población por Alcaldía\n",
    "\n",
    "Sumamos la población total por cada alcaldía.\n"
   ],
   "id": "fa080128bdd7656"
  },
  {
   "metadata": {
    "ExecuteTime": {
     "end_time": "2024-12-09T03:24:11.191260Z",
     "start_time": "2024-12-09T03:24:11.184699Z"
    }
   },
   "cell_type": "code",
   "source": [
    "# Agrupación de población por alcaldía\n",
    "poblacion_alcaldia = poblacion.groupby('alcaldia')['poblacion'].sum()\n",
    "print(\"Población por Alcaldía:\")\n",
    "print(poblacion_alcaldia)"
   ],
   "id": "720b49da5b6f854f",
   "outputs": [
    {
     "name": "stdout",
     "output_type": "stream",
     "text": [
      "Población por Alcaldía:\n",
      "alcaldia\n",
      "ALVARO OBREGON             758180\n",
      "AZCAPOTZALCO               431840\n",
      "BENITO JUAREZ              434115\n",
      "COYOACAN                   614319\n",
      "CUAJIMALPA DE MORELOS      216398\n",
      "CUAUHTEMOC                 545818\n",
      "GUSTAVO A. MADERO         1173117\n",
      "IZTACALCO                  404517\n",
      "IZTAPALAPA                1835091\n",
      "LA MAGDALENA CONTRERAS     246385\n",
      "MIGUEL HIDALGO             408544\n",
      "MILPA ALTA                 135926\n",
      "TLAHUAC                    388687\n",
      "TLALPAN                    692545\n",
      "VENUSTIANO CARRANZA        443289\n",
      "XOCHIMILCO                 434406\n",
      "Name: poblacion, dtype: int64\n"
     ]
    }
   ],
   "execution_count": 7
  },
  {
   "metadata": {},
   "cell_type": "markdown",
   "source": [
    "### Combinación de Datos de Robos y Población\n",
    "\n",
    "Combinamos los datos de robos con los de población y calculamos la tasa de robos por cada 100,000 habitantes.\n"
   ],
   "id": "61c63559661e1778"
  },
  {
   "metadata": {
    "ExecuteTime": {
     "end_time": "2024-12-09T03:24:11.386921Z",
     "start_time": "2024-12-09T03:24:11.374588Z"
    }
   },
   "cell_type": "code",
   "source": [
    "# Combinación de datos de robos y población\n",
    "robos_poblacion_df = pd.DataFrame({\n",
    "    'robos': robos_alcaldia,\n",
    "    'poblacion': poblacion_alcaldia\n",
    "}).dropna()\n",
    "\n",
    "# Cálculo de la tasa de robos por 100,000 habitantes\n",
    "robos_poblacion_df['tasa_robos'] = (robos_poblacion_df['robos'] / robos_poblacion_df['poblacion']) * 100000\n",
    "robos_poblacion_df"
   ],
   "id": "189de5934c6f170",
   "outputs": [
    {
     "data": {
      "text/plain": [
       "                        robos  poblacion  tasa_robos\n",
       "ALVARO OBREGON            858   758180.0  113.165739\n",
       "AZCAPOTZALCO              507   431840.0  117.404594\n",
       "BENITO JUAREZ             586   434115.0  134.987273\n",
       "COYOACAN                  561   614319.0   91.320633\n",
       "CUAJIMALPA DE MORELOS      70   216398.0   32.347804\n",
       "CUAUHTEMOC               1386   545818.0  253.930797\n",
       "GUSTAVO A. MADERO         983  1173117.0   83.793859\n",
       "IZTACALCO                 458   404517.0  113.221447\n",
       "IZTAPALAPA               1898  1835091.0  103.428113\n",
       "LA MAGDALENA CONTRERAS    123   246385.0   49.921870\n",
       "MIGUEL HIDALGO            934   408544.0  228.616746\n",
       "MILPA ALTA                 54   135926.0   39.727499\n",
       "TLAHUAC                   337   388687.0   86.702154\n",
       "TLALPAN                   329   692545.0   47.505938\n",
       "VENUSTIANO CARRANZA       808   443289.0  182.273866\n",
       "XOCHIMILCO                295   434406.0   67.908823"
      ],
      "text/html": [
       "<div>\n",
       "<style scoped>\n",
       "    .dataframe tbody tr th:only-of-type {\n",
       "        vertical-align: middle;\n",
       "    }\n",
       "\n",
       "    .dataframe tbody tr th {\n",
       "        vertical-align: top;\n",
       "    }\n",
       "\n",
       "    .dataframe thead th {\n",
       "        text-align: right;\n",
       "    }\n",
       "</style>\n",
       "<table border=\"1\" class=\"dataframe\">\n",
       "  <thead>\n",
       "    <tr style=\"text-align: right;\">\n",
       "      <th></th>\n",
       "      <th>robos</th>\n",
       "      <th>poblacion</th>\n",
       "      <th>tasa_robos</th>\n",
       "    </tr>\n",
       "  </thead>\n",
       "  <tbody>\n",
       "    <tr>\n",
       "      <th>ALVARO OBREGON</th>\n",
       "      <td>858</td>\n",
       "      <td>758180.0</td>\n",
       "      <td>113.165739</td>\n",
       "    </tr>\n",
       "    <tr>\n",
       "      <th>AZCAPOTZALCO</th>\n",
       "      <td>507</td>\n",
       "      <td>431840.0</td>\n",
       "      <td>117.404594</td>\n",
       "    </tr>\n",
       "    <tr>\n",
       "      <th>BENITO JUAREZ</th>\n",
       "      <td>586</td>\n",
       "      <td>434115.0</td>\n",
       "      <td>134.987273</td>\n",
       "    </tr>\n",
       "    <tr>\n",
       "      <th>COYOACAN</th>\n",
       "      <td>561</td>\n",
       "      <td>614319.0</td>\n",
       "      <td>91.320633</td>\n",
       "    </tr>\n",
       "    <tr>\n",
       "      <th>CUAJIMALPA DE MORELOS</th>\n",
       "      <td>70</td>\n",
       "      <td>216398.0</td>\n",
       "      <td>32.347804</td>\n",
       "    </tr>\n",
       "    <tr>\n",
       "      <th>CUAUHTEMOC</th>\n",
       "      <td>1386</td>\n",
       "      <td>545818.0</td>\n",
       "      <td>253.930797</td>\n",
       "    </tr>\n",
       "    <tr>\n",
       "      <th>GUSTAVO A. MADERO</th>\n",
       "      <td>983</td>\n",
       "      <td>1173117.0</td>\n",
       "      <td>83.793859</td>\n",
       "    </tr>\n",
       "    <tr>\n",
       "      <th>IZTACALCO</th>\n",
       "      <td>458</td>\n",
       "      <td>404517.0</td>\n",
       "      <td>113.221447</td>\n",
       "    </tr>\n",
       "    <tr>\n",
       "      <th>IZTAPALAPA</th>\n",
       "      <td>1898</td>\n",
       "      <td>1835091.0</td>\n",
       "      <td>103.428113</td>\n",
       "    </tr>\n",
       "    <tr>\n",
       "      <th>LA MAGDALENA CONTRERAS</th>\n",
       "      <td>123</td>\n",
       "      <td>246385.0</td>\n",
       "      <td>49.921870</td>\n",
       "    </tr>\n",
       "    <tr>\n",
       "      <th>MIGUEL HIDALGO</th>\n",
       "      <td>934</td>\n",
       "      <td>408544.0</td>\n",
       "      <td>228.616746</td>\n",
       "    </tr>\n",
       "    <tr>\n",
       "      <th>MILPA ALTA</th>\n",
       "      <td>54</td>\n",
       "      <td>135926.0</td>\n",
       "      <td>39.727499</td>\n",
       "    </tr>\n",
       "    <tr>\n",
       "      <th>TLAHUAC</th>\n",
       "      <td>337</td>\n",
       "      <td>388687.0</td>\n",
       "      <td>86.702154</td>\n",
       "    </tr>\n",
       "    <tr>\n",
       "      <th>TLALPAN</th>\n",
       "      <td>329</td>\n",
       "      <td>692545.0</td>\n",
       "      <td>47.505938</td>\n",
       "    </tr>\n",
       "    <tr>\n",
       "      <th>VENUSTIANO CARRANZA</th>\n",
       "      <td>808</td>\n",
       "      <td>443289.0</td>\n",
       "      <td>182.273866</td>\n",
       "    </tr>\n",
       "    <tr>\n",
       "      <th>XOCHIMILCO</th>\n",
       "      <td>295</td>\n",
       "      <td>434406.0</td>\n",
       "      <td>67.908823</td>\n",
       "    </tr>\n",
       "  </tbody>\n",
       "</table>\n",
       "</div>"
      ]
     },
     "execution_count": 8,
     "metadata": {},
     "output_type": "execute_result"
    }
   ],
   "execution_count": 8
  },
  {
   "metadata": {},
   "cell_type": "markdown",
   "source": [
    "## 3. Filtrado de Alcaldías de Interés y Limpieza de Coordenadas\n",
    "\n",
    "Seleccionamos las alcaldías de interés y limpiamos las coordenadas geográficas para asegurar la calidad de los datos geoespaciales.\n"
   ],
   "id": "fcb502eb7b04a3d6"
  },
  {
   "metadata": {
    "ExecuteTime": {
     "end_time": "2024-12-09T03:24:11.573595Z",
     "start_time": "2024-12-09T03:24:11.563236Z"
    }
   },
   "cell_type": "code",
   "source": [
    "# Definición de alcaldías de interés\n",
    "alcaldias_interes = ['CUAUHTEMOC', 'GUSTAVO A. MADERO', 'CUAJIMALPA DE MORELOS']\n",
    "\n",
    "# Filtrado de crímenes por alcaldías de interés\n",
    "crimen = crimen[crimen['ALCALDÍA HECHOS'].isin(alcaldias_interes)]\n",
    "\n",
    "# Conversión de coordenadas a numéricas\n",
    "crimen['COORD X'] = pd.to_numeric(crimen['COORD X'], errors='coerce')\n",
    "crimen['COORD Y'] = pd.to_numeric(crimen['COORD Y'], errors='coerce')\n",
    "\n",
    "# Eliminación de filas con coordenadas faltantes\n",
    "crimen = crimen.dropna(subset=['COORD X', 'COORD Y'])\n",
    "\n",
    "# Reagrupación de robos por alcaldía después del filtrado\n",
    "robos_alcaldia = crimen.groupby('ALCALDÍA HECHOS')['DELITO'].count()\n",
    "print(\"Robos por Alcaldía después del filtrado:\")\n",
    "print(robos_alcaldia)"
   ],
   "id": "d5eb42deb847e786",
   "outputs": [
    {
     "name": "stdout",
     "output_type": "stream",
     "text": [
      "Robos por Alcaldía después del filtrado:\n",
      "ALCALDÍA HECHOS\n",
      "CUAJIMALPA DE MORELOS      69\n",
      "CUAUHTEMOC               1380\n",
      "GUSTAVO A. MADERO         978\n",
      "Name: DELITO, dtype: int64\n"
     ]
    }
   ],
   "execution_count": 9
  },
  {
   "metadata": {
    "ExecuteTime": {
     "end_time": "2024-12-09T03:24:11.711884Z",
     "start_time": "2024-12-09T03:24:11.700234Z"
    }
   },
   "cell_type": "code",
   "source": [
    "# Verificación de columnas y datos\n",
    "print(\"Columnas del DataFrame de crímenes:\", crimen.columns.tolist())\n",
    "crimen.head()\n"
   ],
   "id": "80516cd13930bb00",
   "outputs": [
    {
     "name": "stdout",
     "output_type": "stream",
     "text": [
      "Columnas del DataFrame de crímenes: ['ID', 'ID_CI', 'FECHA DE INICIO', 'HORA DE INICIO', 'CT - INICIO AP', 'TIPO IMPACTO', 'DELITO', 'MODALIDAD - DELITO', 'FECHA DE LOS HECHOS', 'HORA DE LOS HECHOS', 'CALLE 1 HECHOS', 'CALLE 2 HECHOS', 'COLONIA HECHOS', 'ALCALDÍA HECHOS', 'CT HECHOS', 'COORD X', 'COORD Y', 'OBSERVACIÓN', 'Unnamed: 18']\n"
     ]
    },
    {
     "data": {
      "text/plain": [
       "    ID    ID_CI FECHA DE INICIO HORA DE INICIO CT - INICIO AP  TIPO IMPACTO  \\\n",
       "17  18  8601175      01/01/2020          01:33          CUH-2  ALTO IMPACTO   \n",
       "18  19  8601353      01/01/2020          16:44          CUH-2  ALTO IMPACTO   \n",
       "19  20  8601367      01/01/2020          17:52          CUH-2  ALTO IMPACTO   \n",
       "20  21  8601169      01/01/2020          00:30          CUH-6  ALTO IMPACTO   \n",
       "30  31  8601265      01/01/2020          11:54          TUR-2  ALTO IMPACTO   \n",
       "\n",
       "                                               DELITO  \\\n",
       "17  ROBO A TRANSEUNTE EN VÍA PÚBLICA CON Y SIN VIO...   \n",
       "18  ROBO A TRANSEUNTE EN VÍA PÚBLICA CON Y SIN VIO...   \n",
       "19  ROBO A TRANSEUNTE EN VÍA PÚBLICA CON Y SIN VIO...   \n",
       "20  ROBO A TRANSEUNTE EN VÍA PÚBLICA CON Y SIN VIO...   \n",
       "30  ROBO A TRANSEUNTE EN VÍA PÚBLICA CON Y SIN VIO...   \n",
       "\n",
       "                                MODALIDAD - DELITO FECHA DE LOS HECHOS  \\\n",
       "17  ROBO A TRANSEUNTE EN VIA PUBLICA CON VIOLENCIA          01/01/2020   \n",
       "18  ROBO A TRANSEUNTE EN VIA PUBLICA CON VIOLENCIA          01/01/2020   \n",
       "19  ROBO A TRANSEUNTE EN VIA PUBLICA CON VIOLENCIA          01/01/2020   \n",
       "20  ROBO A TRANSEUNTE EN VIA PUBLICA CON VIOLENCIA          19/10/2019   \n",
       "30  ROBO A TRANSEUNTE EN VIA PUBLICA SIN VIOLENCIA          31/12/2019   \n",
       "\n",
       "   HORA DE LOS HECHOS           CALLE 1 HECHOS       CALLE 2 HECHOS  \\\n",
       "17              00:50  AV. PASEO DE LA REFORMA         SIN REGISTRO   \n",
       "18              15:30                LUIS MOYA              PUGIBET   \n",
       "19              17:20  MANUEL DE LAPEÑA Y PEÑA      GONZALEZ ORTEGA   \n",
       "20              14:40    REPUBLICA DE COLOMBIA               CARMEN   \n",
       "30              23:25               COPENHAGUE  PASEO DE LA REFORMA   \n",
       "\n",
       "   COLONIA HECHOS ALCALDÍA HECHOS CT HECHOS    COORD X    COORD Y  \\\n",
       "17     CUAUHTÉMOC      CUAUHTEMOC     CUH-5 -99.164528  19.429319   \n",
       "18         CENTRO      CUAUHTEMOC     CUH-6 -99.145715  19.429738   \n",
       "19         CENTRO      CUAUHTEMOC     CUH-4 -99.125974  19.440142   \n",
       "20         CENTRO      CUAUHTEMOC     CUH-4 -99.129393  19.438092   \n",
       "30         JUÁREZ      CUAUHTEMOC     CUH-5 -99.164472  19.428443   \n",
       "\n",
       "                                          OBSERVACIÓN  Unnamed: 18  \n",
       "17  LAS COORDENADAS QUE SE MUESTRAN NO CORRESPONDE...          NaN  \n",
       "18  LAS COORDENADAS QUE SE MUESTRAN NO CORRESPONDE...          NaN  \n",
       "19  LAS COORDENADAS QUE SE MUESTRAN NO CORRESPONDE...          NaN  \n",
       "20  LAS COORDENADAS QUE SE MUESTRAN NO CORRESPONDE...          NaN  \n",
       "30  LAS COORDENADAS QUE SE MUESTRAN NO CORRESPONDE...          NaN  "
      ],
      "text/html": [
       "<div>\n",
       "<style scoped>\n",
       "    .dataframe tbody tr th:only-of-type {\n",
       "        vertical-align: middle;\n",
       "    }\n",
       "\n",
       "    .dataframe tbody tr th {\n",
       "        vertical-align: top;\n",
       "    }\n",
       "\n",
       "    .dataframe thead th {\n",
       "        text-align: right;\n",
       "    }\n",
       "</style>\n",
       "<table border=\"1\" class=\"dataframe\">\n",
       "  <thead>\n",
       "    <tr style=\"text-align: right;\">\n",
       "      <th></th>\n",
       "      <th>ID</th>\n",
       "      <th>ID_CI</th>\n",
       "      <th>FECHA DE INICIO</th>\n",
       "      <th>HORA DE INICIO</th>\n",
       "      <th>CT - INICIO AP</th>\n",
       "      <th>TIPO IMPACTO</th>\n",
       "      <th>DELITO</th>\n",
       "      <th>MODALIDAD - DELITO</th>\n",
       "      <th>FECHA DE LOS HECHOS</th>\n",
       "      <th>HORA DE LOS HECHOS</th>\n",
       "      <th>CALLE 1 HECHOS</th>\n",
       "      <th>CALLE 2 HECHOS</th>\n",
       "      <th>COLONIA HECHOS</th>\n",
       "      <th>ALCALDÍA HECHOS</th>\n",
       "      <th>CT HECHOS</th>\n",
       "      <th>COORD X</th>\n",
       "      <th>COORD Y</th>\n",
       "      <th>OBSERVACIÓN</th>\n",
       "      <th>Unnamed: 18</th>\n",
       "    </tr>\n",
       "  </thead>\n",
       "  <tbody>\n",
       "    <tr>\n",
       "      <th>17</th>\n",
       "      <td>18</td>\n",
       "      <td>8601175</td>\n",
       "      <td>01/01/2020</td>\n",
       "      <td>01:33</td>\n",
       "      <td>CUH-2</td>\n",
       "      <td>ALTO IMPACTO</td>\n",
       "      <td>ROBO A TRANSEUNTE EN VÍA PÚBLICA CON Y SIN VIO...</td>\n",
       "      <td>ROBO A TRANSEUNTE EN VIA PUBLICA CON VIOLENCIA</td>\n",
       "      <td>01/01/2020</td>\n",
       "      <td>00:50</td>\n",
       "      <td>AV. PASEO DE LA REFORMA</td>\n",
       "      <td>SIN REGISTRO</td>\n",
       "      <td>CUAUHTÉMOC</td>\n",
       "      <td>CUAUHTEMOC</td>\n",
       "      <td>CUH-5</td>\n",
       "      <td>-99.164528</td>\n",
       "      <td>19.429319</td>\n",
       "      <td>LAS COORDENADAS QUE SE MUESTRAN NO CORRESPONDE...</td>\n",
       "      <td>NaN</td>\n",
       "    </tr>\n",
       "    <tr>\n",
       "      <th>18</th>\n",
       "      <td>19</td>\n",
       "      <td>8601353</td>\n",
       "      <td>01/01/2020</td>\n",
       "      <td>16:44</td>\n",
       "      <td>CUH-2</td>\n",
       "      <td>ALTO IMPACTO</td>\n",
       "      <td>ROBO A TRANSEUNTE EN VÍA PÚBLICA CON Y SIN VIO...</td>\n",
       "      <td>ROBO A TRANSEUNTE EN VIA PUBLICA CON VIOLENCIA</td>\n",
       "      <td>01/01/2020</td>\n",
       "      <td>15:30</td>\n",
       "      <td>LUIS MOYA</td>\n",
       "      <td>PUGIBET</td>\n",
       "      <td>CENTRO</td>\n",
       "      <td>CUAUHTEMOC</td>\n",
       "      <td>CUH-6</td>\n",
       "      <td>-99.145715</td>\n",
       "      <td>19.429738</td>\n",
       "      <td>LAS COORDENADAS QUE SE MUESTRAN NO CORRESPONDE...</td>\n",
       "      <td>NaN</td>\n",
       "    </tr>\n",
       "    <tr>\n",
       "      <th>19</th>\n",
       "      <td>20</td>\n",
       "      <td>8601367</td>\n",
       "      <td>01/01/2020</td>\n",
       "      <td>17:52</td>\n",
       "      <td>CUH-2</td>\n",
       "      <td>ALTO IMPACTO</td>\n",
       "      <td>ROBO A TRANSEUNTE EN VÍA PÚBLICA CON Y SIN VIO...</td>\n",
       "      <td>ROBO A TRANSEUNTE EN VIA PUBLICA CON VIOLENCIA</td>\n",
       "      <td>01/01/2020</td>\n",
       "      <td>17:20</td>\n",
       "      <td>MANUEL DE LAPEÑA Y PEÑA</td>\n",
       "      <td>GONZALEZ ORTEGA</td>\n",
       "      <td>CENTRO</td>\n",
       "      <td>CUAUHTEMOC</td>\n",
       "      <td>CUH-4</td>\n",
       "      <td>-99.125974</td>\n",
       "      <td>19.440142</td>\n",
       "      <td>LAS COORDENADAS QUE SE MUESTRAN NO CORRESPONDE...</td>\n",
       "      <td>NaN</td>\n",
       "    </tr>\n",
       "    <tr>\n",
       "      <th>20</th>\n",
       "      <td>21</td>\n",
       "      <td>8601169</td>\n",
       "      <td>01/01/2020</td>\n",
       "      <td>00:30</td>\n",
       "      <td>CUH-6</td>\n",
       "      <td>ALTO IMPACTO</td>\n",
       "      <td>ROBO A TRANSEUNTE EN VÍA PÚBLICA CON Y SIN VIO...</td>\n",
       "      <td>ROBO A TRANSEUNTE EN VIA PUBLICA CON VIOLENCIA</td>\n",
       "      <td>19/10/2019</td>\n",
       "      <td>14:40</td>\n",
       "      <td>REPUBLICA DE COLOMBIA</td>\n",
       "      <td>CARMEN</td>\n",
       "      <td>CENTRO</td>\n",
       "      <td>CUAUHTEMOC</td>\n",
       "      <td>CUH-4</td>\n",
       "      <td>-99.129393</td>\n",
       "      <td>19.438092</td>\n",
       "      <td>LAS COORDENADAS QUE SE MUESTRAN NO CORRESPONDE...</td>\n",
       "      <td>NaN</td>\n",
       "    </tr>\n",
       "    <tr>\n",
       "      <th>30</th>\n",
       "      <td>31</td>\n",
       "      <td>8601265</td>\n",
       "      <td>01/01/2020</td>\n",
       "      <td>11:54</td>\n",
       "      <td>TUR-2</td>\n",
       "      <td>ALTO IMPACTO</td>\n",
       "      <td>ROBO A TRANSEUNTE EN VÍA PÚBLICA CON Y SIN VIO...</td>\n",
       "      <td>ROBO A TRANSEUNTE EN VIA PUBLICA SIN VIOLENCIA</td>\n",
       "      <td>31/12/2019</td>\n",
       "      <td>23:25</td>\n",
       "      <td>COPENHAGUE</td>\n",
       "      <td>PASEO DE LA REFORMA</td>\n",
       "      <td>JUÁREZ</td>\n",
       "      <td>CUAUHTEMOC</td>\n",
       "      <td>CUH-5</td>\n",
       "      <td>-99.164472</td>\n",
       "      <td>19.428443</td>\n",
       "      <td>LAS COORDENADAS QUE SE MUESTRAN NO CORRESPONDE...</td>\n",
       "      <td>NaN</td>\n",
       "    </tr>\n",
       "  </tbody>\n",
       "</table>\n",
       "</div>"
      ]
     },
     "execution_count": 10,
     "metadata": {},
     "output_type": "execute_result"
    }
   ],
   "execution_count": 10
  },
  {
   "metadata": {},
   "cell_type": "markdown",
   "source": [
    "### Filtrado de Datos de Población por Alcaldías de Interés\n",
    "\n",
    "Aseguramos que los datos de población correspondan únicamente a las alcaldías de interés seleccionadas.\n"
   ],
   "id": "aeed88a9cc7077d9"
  },
  {
   "metadata": {
    "ExecuteTime": {
     "end_time": "2024-12-09T03:24:11.876193Z",
     "start_time": "2024-12-09T03:24:11.870873Z"
    }
   },
   "cell_type": "code",
   "source": [
    "# Filtrado de población por alcaldías de interés\n",
    "poblacion = poblacion[poblacion['alcaldia'].isin(alcaldias_interes)]\n",
    "poblacion_alcaldia = poblacion.groupby('alcaldia')['poblacion'].sum()\n",
    "print(\"Población por Alcaldía después del filtrado:\")\n",
    "print(poblacion_alcaldia)\n"
   ],
   "id": "8dbe542f35fab9c6",
   "outputs": [
    {
     "name": "stdout",
     "output_type": "stream",
     "text": [
      "Población por Alcaldía después del filtrado:\n",
      "alcaldia\n",
      "CUAJIMALPA DE MORELOS     216398\n",
      "CUAUHTEMOC                545818\n",
      "GUSTAVO A. MADERO        1173117\n",
      "Name: poblacion, dtype: int64\n"
     ]
    }
   ],
   "execution_count": 11
  },
  {
   "metadata": {
    "ExecuteTime": {
     "end_time": "2024-12-09T03:24:12.038814Z",
     "start_time": "2024-12-09T03:24:12.031140Z"
    }
   },
   "cell_type": "code",
   "source": [
    "# Verificación de columnas y datos de población\n",
    "print(\"Columnas del DataFrame de población:\", poblacion.columns.tolist())\n",
    "poblacion.head()\n"
   ],
   "id": "86067476a8bab266",
   "outputs": [
    {
     "name": "stdout",
     "output_type": "stream",
     "text": [
      "Columnas del DataFrame de población: ['alcaldia', 'localidad', 'sexo', 'rango_edad', 'poblacion']\n"
     ]
    },
    {
     "data": {
      "text/plain": [
       "                 alcaldia              localidad    sexo       rango_edad  \\\n",
       "72  CUAJIMALPA DE MORELOS  Cuajimalpa de Morelos  Hombre    a) 0 a 4 años   \n",
       "73  CUAJIMALPA DE MORELOS  Cuajimalpa de Morelos  Hombre    b) 5 a 9 años   \n",
       "74  CUAJIMALPA DE MORELOS  Cuajimalpa de Morelos  Hombre  c) 10 a 14 años   \n",
       "75  CUAJIMALPA DE MORELOS  Cuajimalpa de Morelos  Hombre  d) 15 a 19 años   \n",
       "76  CUAJIMALPA DE MORELOS  Cuajimalpa de Morelos  Hombre  e) 20 a 24 años   \n",
       "\n",
       "    poblacion  \n",
       "72       6079  \n",
       "73       6559  \n",
       "74       6708  \n",
       "75       7108  \n",
       "76       7472  "
      ],
      "text/html": [
       "<div>\n",
       "<style scoped>\n",
       "    .dataframe tbody tr th:only-of-type {\n",
       "        vertical-align: middle;\n",
       "    }\n",
       "\n",
       "    .dataframe tbody tr th {\n",
       "        vertical-align: top;\n",
       "    }\n",
       "\n",
       "    .dataframe thead th {\n",
       "        text-align: right;\n",
       "    }\n",
       "</style>\n",
       "<table border=\"1\" class=\"dataframe\">\n",
       "  <thead>\n",
       "    <tr style=\"text-align: right;\">\n",
       "      <th></th>\n",
       "      <th>alcaldia</th>\n",
       "      <th>localidad</th>\n",
       "      <th>sexo</th>\n",
       "      <th>rango_edad</th>\n",
       "      <th>poblacion</th>\n",
       "    </tr>\n",
       "  </thead>\n",
       "  <tbody>\n",
       "    <tr>\n",
       "      <th>72</th>\n",
       "      <td>CUAJIMALPA DE MORELOS</td>\n",
       "      <td>Cuajimalpa de Morelos</td>\n",
       "      <td>Hombre</td>\n",
       "      <td>a) 0 a 4 años</td>\n",
       "      <td>6079</td>\n",
       "    </tr>\n",
       "    <tr>\n",
       "      <th>73</th>\n",
       "      <td>CUAJIMALPA DE MORELOS</td>\n",
       "      <td>Cuajimalpa de Morelos</td>\n",
       "      <td>Hombre</td>\n",
       "      <td>b) 5 a 9 años</td>\n",
       "      <td>6559</td>\n",
       "    </tr>\n",
       "    <tr>\n",
       "      <th>74</th>\n",
       "      <td>CUAJIMALPA DE MORELOS</td>\n",
       "      <td>Cuajimalpa de Morelos</td>\n",
       "      <td>Hombre</td>\n",
       "      <td>c) 10 a 14 años</td>\n",
       "      <td>6708</td>\n",
       "    </tr>\n",
       "    <tr>\n",
       "      <th>75</th>\n",
       "      <td>CUAJIMALPA DE MORELOS</td>\n",
       "      <td>Cuajimalpa de Morelos</td>\n",
       "      <td>Hombre</td>\n",
       "      <td>d) 15 a 19 años</td>\n",
       "      <td>7108</td>\n",
       "    </tr>\n",
       "    <tr>\n",
       "      <th>76</th>\n",
       "      <td>CUAJIMALPA DE MORELOS</td>\n",
       "      <td>Cuajimalpa de Morelos</td>\n",
       "      <td>Hombre</td>\n",
       "      <td>e) 20 a 24 años</td>\n",
       "      <td>7472</td>\n",
       "    </tr>\n",
       "  </tbody>\n",
       "</table>\n",
       "</div>"
      ]
     },
     "execution_count": 12,
     "metadata": {},
     "output_type": "execute_result"
    }
   ],
   "execution_count": 12
  },
  {
   "metadata": {},
   "cell_type": "markdown",
   "source": [
    "## 4. Análisis Geoespacial\n",
    "\n",
    "Realizamos un análisis geoespacial para visualizar los robos en el mapa de la Ciudad de México.\n"
   ],
   "id": "4318bbc649ea3763"
  },
  {
   "metadata": {},
   "cell_type": "markdown",
   "source": [
    "### 4.1. Carga del Mapa Base\n",
    "\n",
    "Cargamos el archivo GeoJSON que contiene la información geoespacial de las alcaldías.\n"
   ],
   "id": "c85b343fbe34d88b"
  },
  {
   "metadata": {
    "ExecuteTime": {
     "end_time": "2024-12-09T03:24:12.627810Z",
     "start_time": "2024-12-09T03:24:12.206094Z"
    }
   },
   "cell_type": "code",
   "source": [
    "# Ruta al archivo GeoJSON\n",
    "ruta_geojson = 'mapa.json'\n",
    "\n",
    "# Carga del mapa base\n",
    "agebs = gpd.read_file(ruta_geojson)\n",
    "agebs.head(20)"
   ],
   "id": "31800f3ed5c14264",
   "outputs": [
    {
     "name": "stderr",
     "output_type": "stream",
     "text": [
      "ERROR 1: PROJ: proj_create_from_database: Open of /home/erik/miniconda3/share/proj failed\n"
     ]
    },
    {
     "data": {
      "text/plain": [
       "   CVEGEO CVE_ENT CVE_MUN                  NOMGEO           NOM_ENT  COV_  \\\n",
       "0   09003      09     003                Coyoacán  Ciudad de México   275   \n",
       "1   09007      09     007              Iztapalapa  Ciudad de México   276   \n",
       "2   09008      09     008  La Magdalena Contreras  Ciudad de México   277   \n",
       "3   09009      09     009              Milpa Alta  Ciudad de México   278   \n",
       "4   09010      09     010          Álvaro Obregón  Ciudad de México   279   \n",
       "5   09011      09     011                 Tláhuac  Ciudad de México   280   \n",
       "6   09012      09     012                 Tlalpan  Ciudad de México   281   \n",
       "7   09013      09     013              Xochimilco  Ciudad de México   282   \n",
       "8   09006      09     006               Iztacalco  Ciudad de México   283   \n",
       "9   09015      09     015              CUAUHTEMOC  Ciudad de México   284   \n",
       "10  09017      09     017     Venustiano Carranza  Ciudad de México   285   \n",
       "11  09002      09     002            Azcapotzalco  Ciudad de México   286   \n",
       "12  09016      09     016          Miguel Hidalgo  Ciudad de México   287   \n",
       "13  09005      09     005       GUSTAVO A. MADERO  Ciudad de México   288   \n",
       "14  09004      09     004   CUAJIMALPA DE MORELOS  Ciudad de México   289   \n",
       "15  09014      09     014           Benito Juárez  Ciudad de México   290   \n",
       "\n",
       "    COV_ID          AREA      PERIMETER  \\\n",
       "0      276   5362.231427   33293.881387   \n",
       "1      277  11252.806399   55993.681263   \n",
       "2      278   6307.476712   47546.085775   \n",
       "3      279  29672.886592   76023.989271   \n",
       "4      280   9535.832693   78321.140148   \n",
       "5      281   8538.328298   55680.003825   \n",
       "6      282  31285.267302  100582.296823   \n",
       "7      283  11350.430151   60393.366898   \n",
       "8      284   2296.278473   27292.399827   \n",
       "9      285   3233.524482   24394.760015   \n",
       "10     286   3366.604958   26672.685912   \n",
       "11     287   3332.309153   24671.724802   \n",
       "12     288   4615.436196   39387.769039   \n",
       "13     289   8737.830624   56403.558051   \n",
       "14     290   7076.185866   66252.498897   \n",
       "15     291   2654.892328   20973.012867   \n",
       "\n",
       "                                             geometry  \n",
       "0   POLYGON ((-99.13984 19.35692, -99.13923 19.356...  \n",
       "1   POLYGON ((-99.05813 19.40072, -99.05814 19.400...  \n",
       "2   POLYGON ((-99.21993 19.31226, -99.22047 19.311...  \n",
       "3   POLYGON ((-98.96853 19.21057, -98.96838 19.210...  \n",
       "4   POLYGON ((-99.18906 19.39559, -99.18871 19.394...  \n",
       "5   POLYGON ((-98.96045 19.32537, -98.96036 19.325...  \n",
       "6   POLYGON ((-99.19811 19.30300, -99.19776 19.302...  \n",
       "7   POLYGON ((-99.09908 19.32044, -99.09906 19.320...  \n",
       "8   POLYGON ((-99.05579 19.42214, -99.05584 19.421...  \n",
       "9   POLYGON ((-99.12224 19.45978, -99.12224 19.459...  \n",
       "10  POLYGON ((-99.05087 19.45018, -99.05087 19.450...  \n",
       "11  POLYGON ((-99.15718 19.50285, -99.15695 19.502...  \n",
       "12  POLYGON ((-99.16371 19.45643, -99.16372 19.456...  \n",
       "13  POLYGON ((-99.11789 19.59059, -99.11860 19.584...  \n",
       "14  POLYGON ((-99.25581 19.40357, -99.25567 19.403...  \n",
       "15  POLYGON ((-99.13659 19.40281, -99.13679 19.401...  "
      ],
      "text/html": [
       "<div>\n",
       "<style scoped>\n",
       "    .dataframe tbody tr th:only-of-type {\n",
       "        vertical-align: middle;\n",
       "    }\n",
       "\n",
       "    .dataframe tbody tr th {\n",
       "        vertical-align: top;\n",
       "    }\n",
       "\n",
       "    .dataframe thead th {\n",
       "        text-align: right;\n",
       "    }\n",
       "</style>\n",
       "<table border=\"1\" class=\"dataframe\">\n",
       "  <thead>\n",
       "    <tr style=\"text-align: right;\">\n",
       "      <th></th>\n",
       "      <th>CVEGEO</th>\n",
       "      <th>CVE_ENT</th>\n",
       "      <th>CVE_MUN</th>\n",
       "      <th>NOMGEO</th>\n",
       "      <th>NOM_ENT</th>\n",
       "      <th>COV_</th>\n",
       "      <th>COV_ID</th>\n",
       "      <th>AREA</th>\n",
       "      <th>PERIMETER</th>\n",
       "      <th>geometry</th>\n",
       "    </tr>\n",
       "  </thead>\n",
       "  <tbody>\n",
       "    <tr>\n",
       "      <th>0</th>\n",
       "      <td>09003</td>\n",
       "      <td>09</td>\n",
       "      <td>003</td>\n",
       "      <td>Coyoacán</td>\n",
       "      <td>Ciudad de México</td>\n",
       "      <td>275</td>\n",
       "      <td>276</td>\n",
       "      <td>5362.231427</td>\n",
       "      <td>33293.881387</td>\n",
       "      <td>POLYGON ((-99.13984 19.35692, -99.13923 19.356...</td>\n",
       "    </tr>\n",
       "    <tr>\n",
       "      <th>1</th>\n",
       "      <td>09007</td>\n",
       "      <td>09</td>\n",
       "      <td>007</td>\n",
       "      <td>Iztapalapa</td>\n",
       "      <td>Ciudad de México</td>\n",
       "      <td>276</td>\n",
       "      <td>277</td>\n",
       "      <td>11252.806399</td>\n",
       "      <td>55993.681263</td>\n",
       "      <td>POLYGON ((-99.05813 19.40072, -99.05814 19.400...</td>\n",
       "    </tr>\n",
       "    <tr>\n",
       "      <th>2</th>\n",
       "      <td>09008</td>\n",
       "      <td>09</td>\n",
       "      <td>008</td>\n",
       "      <td>La Magdalena Contreras</td>\n",
       "      <td>Ciudad de México</td>\n",
       "      <td>277</td>\n",
       "      <td>278</td>\n",
       "      <td>6307.476712</td>\n",
       "      <td>47546.085775</td>\n",
       "      <td>POLYGON ((-99.21993 19.31226, -99.22047 19.311...</td>\n",
       "    </tr>\n",
       "    <tr>\n",
       "      <th>3</th>\n",
       "      <td>09009</td>\n",
       "      <td>09</td>\n",
       "      <td>009</td>\n",
       "      <td>Milpa Alta</td>\n",
       "      <td>Ciudad de México</td>\n",
       "      <td>278</td>\n",
       "      <td>279</td>\n",
       "      <td>29672.886592</td>\n",
       "      <td>76023.989271</td>\n",
       "      <td>POLYGON ((-98.96853 19.21057, -98.96838 19.210...</td>\n",
       "    </tr>\n",
       "    <tr>\n",
       "      <th>4</th>\n",
       "      <td>09010</td>\n",
       "      <td>09</td>\n",
       "      <td>010</td>\n",
       "      <td>Álvaro Obregón</td>\n",
       "      <td>Ciudad de México</td>\n",
       "      <td>279</td>\n",
       "      <td>280</td>\n",
       "      <td>9535.832693</td>\n",
       "      <td>78321.140148</td>\n",
       "      <td>POLYGON ((-99.18906 19.39559, -99.18871 19.394...</td>\n",
       "    </tr>\n",
       "    <tr>\n",
       "      <th>5</th>\n",
       "      <td>09011</td>\n",
       "      <td>09</td>\n",
       "      <td>011</td>\n",
       "      <td>Tláhuac</td>\n",
       "      <td>Ciudad de México</td>\n",
       "      <td>280</td>\n",
       "      <td>281</td>\n",
       "      <td>8538.328298</td>\n",
       "      <td>55680.003825</td>\n",
       "      <td>POLYGON ((-98.96045 19.32537, -98.96036 19.325...</td>\n",
       "    </tr>\n",
       "    <tr>\n",
       "      <th>6</th>\n",
       "      <td>09012</td>\n",
       "      <td>09</td>\n",
       "      <td>012</td>\n",
       "      <td>Tlalpan</td>\n",
       "      <td>Ciudad de México</td>\n",
       "      <td>281</td>\n",
       "      <td>282</td>\n",
       "      <td>31285.267302</td>\n",
       "      <td>100582.296823</td>\n",
       "      <td>POLYGON ((-99.19811 19.30300, -99.19776 19.302...</td>\n",
       "    </tr>\n",
       "    <tr>\n",
       "      <th>7</th>\n",
       "      <td>09013</td>\n",
       "      <td>09</td>\n",
       "      <td>013</td>\n",
       "      <td>Xochimilco</td>\n",
       "      <td>Ciudad de México</td>\n",
       "      <td>282</td>\n",
       "      <td>283</td>\n",
       "      <td>11350.430151</td>\n",
       "      <td>60393.366898</td>\n",
       "      <td>POLYGON ((-99.09908 19.32044, -99.09906 19.320...</td>\n",
       "    </tr>\n",
       "    <tr>\n",
       "      <th>8</th>\n",
       "      <td>09006</td>\n",
       "      <td>09</td>\n",
       "      <td>006</td>\n",
       "      <td>Iztacalco</td>\n",
       "      <td>Ciudad de México</td>\n",
       "      <td>283</td>\n",
       "      <td>284</td>\n",
       "      <td>2296.278473</td>\n",
       "      <td>27292.399827</td>\n",
       "      <td>POLYGON ((-99.05579 19.42214, -99.05584 19.421...</td>\n",
       "    </tr>\n",
       "    <tr>\n",
       "      <th>9</th>\n",
       "      <td>09015</td>\n",
       "      <td>09</td>\n",
       "      <td>015</td>\n",
       "      <td>CUAUHTEMOC</td>\n",
       "      <td>Ciudad de México</td>\n",
       "      <td>284</td>\n",
       "      <td>285</td>\n",
       "      <td>3233.524482</td>\n",
       "      <td>24394.760015</td>\n",
       "      <td>POLYGON ((-99.12224 19.45978, -99.12224 19.459...</td>\n",
       "    </tr>\n",
       "    <tr>\n",
       "      <th>10</th>\n",
       "      <td>09017</td>\n",
       "      <td>09</td>\n",
       "      <td>017</td>\n",
       "      <td>Venustiano Carranza</td>\n",
       "      <td>Ciudad de México</td>\n",
       "      <td>285</td>\n",
       "      <td>286</td>\n",
       "      <td>3366.604958</td>\n",
       "      <td>26672.685912</td>\n",
       "      <td>POLYGON ((-99.05087 19.45018, -99.05087 19.450...</td>\n",
       "    </tr>\n",
       "    <tr>\n",
       "      <th>11</th>\n",
       "      <td>09002</td>\n",
       "      <td>09</td>\n",
       "      <td>002</td>\n",
       "      <td>Azcapotzalco</td>\n",
       "      <td>Ciudad de México</td>\n",
       "      <td>286</td>\n",
       "      <td>287</td>\n",
       "      <td>3332.309153</td>\n",
       "      <td>24671.724802</td>\n",
       "      <td>POLYGON ((-99.15718 19.50285, -99.15695 19.502...</td>\n",
       "    </tr>\n",
       "    <tr>\n",
       "      <th>12</th>\n",
       "      <td>09016</td>\n",
       "      <td>09</td>\n",
       "      <td>016</td>\n",
       "      <td>Miguel Hidalgo</td>\n",
       "      <td>Ciudad de México</td>\n",
       "      <td>287</td>\n",
       "      <td>288</td>\n",
       "      <td>4615.436196</td>\n",
       "      <td>39387.769039</td>\n",
       "      <td>POLYGON ((-99.16371 19.45643, -99.16372 19.456...</td>\n",
       "    </tr>\n",
       "    <tr>\n",
       "      <th>13</th>\n",
       "      <td>09005</td>\n",
       "      <td>09</td>\n",
       "      <td>005</td>\n",
       "      <td>GUSTAVO A. MADERO</td>\n",
       "      <td>Ciudad de México</td>\n",
       "      <td>288</td>\n",
       "      <td>289</td>\n",
       "      <td>8737.830624</td>\n",
       "      <td>56403.558051</td>\n",
       "      <td>POLYGON ((-99.11789 19.59059, -99.11860 19.584...</td>\n",
       "    </tr>\n",
       "    <tr>\n",
       "      <th>14</th>\n",
       "      <td>09004</td>\n",
       "      <td>09</td>\n",
       "      <td>004</td>\n",
       "      <td>CUAJIMALPA DE MORELOS</td>\n",
       "      <td>Ciudad de México</td>\n",
       "      <td>289</td>\n",
       "      <td>290</td>\n",
       "      <td>7076.185866</td>\n",
       "      <td>66252.498897</td>\n",
       "      <td>POLYGON ((-99.25581 19.40357, -99.25567 19.403...</td>\n",
       "    </tr>\n",
       "    <tr>\n",
       "      <th>15</th>\n",
       "      <td>09014</td>\n",
       "      <td>09</td>\n",
       "      <td>014</td>\n",
       "      <td>Benito Juárez</td>\n",
       "      <td>Ciudad de México</td>\n",
       "      <td>290</td>\n",
       "      <td>291</td>\n",
       "      <td>2654.892328</td>\n",
       "      <td>20973.012867</td>\n",
       "      <td>POLYGON ((-99.13659 19.40281, -99.13679 19.401...</td>\n",
       "    </tr>\n",
       "  </tbody>\n",
       "</table>\n",
       "</div>"
      ]
     },
     "execution_count": 13,
     "metadata": {},
     "output_type": "execute_result"
    }
   ],
   "execution_count": 13
  },
  {
   "metadata": {},
   "cell_type": "markdown",
   "source": [
    "### 4.2. Creación del GeoDataFrame de Crímenes\n",
    "\n",
    "Convertimos las coordenadas de los crímenes en geometrías geoespaciales.\n"
   ],
   "id": "29e69f77fc159243"
  },
  {
   "metadata": {
    "ExecuteTime": {
     "end_time": "2024-12-09T03:24:12.802591Z",
     "start_time": "2024-12-09T03:24:12.735627Z"
    }
   },
   "cell_type": "code",
   "source": [
    "# Creación de geometrías a partir de coordenadas\n",
    "crimen['geometry'] = crimen.apply(lambda row: sg.Point(row['COORD X'], row['COORD Y']), axis=1)\n",
    "crimen_gdf = gpd.GeoDataFrame(crimen, geometry='geometry')\n",
    "\n",
    "# Asignación del CRS (Sistema de Referencia de Coordenadas)\n",
    "crimen_gdf.set_crs(agebs.crs, inplace=True)\n",
    "print(\"CRS del mapa base:\", agebs.crs)\n",
    "print(\"CRS de crímenes:\", crimen_gdf.crs)\n"
   ],
   "id": "82551a95720b9dae",
   "outputs": [
    {
     "name": "stdout",
     "output_type": "stream",
     "text": [
      "CRS del mapa base: EPSG:4326\n",
      "CRS de crímenes: EPSG:4326\n"
     ]
    }
   ],
   "execution_count": 14
  },
  {
   "metadata": {},
   "cell_type": "markdown",
   "source": [
    "### 4.3. Visualización de los Crímenes en el Mapa\n",
    "\n",
    "Creamos una visualización geoespacial de los robos sobre el mapa de las alcaldías seleccionadas.\n"
   ],
   "id": "c2f12e8ffa361088"
  },
  {
   "metadata": {
    "ExecuteTime": {
     "end_time": "2024-12-09T03:24:13.475818Z",
     "start_time": "2024-12-09T03:24:12.988589Z"
    }
   },
   "cell_type": "code",
   "source": [
    "# Configuración de la figura\n",
    "fig, ax = plt.subplots(figsize=(15, 15))  # Tamaño aumentado para mejor visualización\n",
    "\n",
    "# Plot del mapa base\n",
    "agebs.plot(ax=ax, color='lightgrey', edgecolor='black')\n",
    "\n",
    "# Plot de los crímenes\n",
    "crimen_gdf.plot(ax=ax, markersize=1, color='red', alpha=1, marker='o', label='Crímenes')\n",
    "\n",
    "# Ajuste de los límites del mapa con un margen\n",
    "xmin, ymin, xmax, ymax = agebs.total_bounds\n",
    "margin_x = (xmax - xmin) * 0.05\n",
    "margin_y = (ymax - ymin) * 0.05\n",
    "ax.set_xlim(xmin - margin_x, xmax + margin_x)\n",
    "ax.set_ylim(ymin - margin_y, ymax + margin_y)\n",
    "\n",
    "# Añadir leyenda y título\n",
    "plt.legend()\n",
    "plt.title('Mapa de Áreas y Crímenes')\n",
    "plt.show()"
   ],
   "id": "9d320887b4c6f2dc",
   "outputs": [
    {
     "data": {
      "text/plain": [
       "<Figure size 1500x1500 with 1 Axes>"
      ],
      "image/png": "[encoded data removed]"
     },
     "metadata": {},
     "output_type": "display_data"
    }
   ],
   "execution_count": 15
  },
  {
   "metadata": {},
   "cell_type": "markdown",
   "source": [
    "### 4.4. Filtrado del Mapa Base por Alcaldías de Interés\n",
    "\n",
    "Filtramos el mapa base para incluir solo las alcaldías de interés."
   ],
   "id": "8b04059416038e08"
  },
  {
   "metadata": {
    "ExecuteTime": {
     "end_time": "2024-12-09T03:24:13.578987Z",
     "start_time": "2024-12-09T03:24:13.551621Z"
    }
   },
   "cell_type": "code",
   "source": [
    "# Filtrado del mapa base por alcaldías de interés\n",
    "agebs = agebs[agebs['NOMGEO'].isin(alcaldias_interes)]\n",
    "agebs.head()\n"
   ],
   "id": "2d8eec6be19f9258",
   "outputs": [
    {
     "data": {
      "text/plain": [
       "   CVEGEO CVE_ENT CVE_MUN                 NOMGEO           NOM_ENT  COV_  \\\n",
       "9   09015      09     015             CUAUHTEMOC  Ciudad de México   284   \n",
       "13  09005      09     005      GUSTAVO A. MADERO  Ciudad de México   288   \n",
       "14  09004      09     004  CUAJIMALPA DE MORELOS  Ciudad de México   289   \n",
       "\n",
       "    COV_ID         AREA     PERIMETER  \\\n",
       "9      285  3233.524482  24394.760015   \n",
       "13     289  8737.830624  56403.558051   \n",
       "14     290  7076.185866  66252.498897   \n",
       "\n",
       "                                             geometry  \n",
       "9   POLYGON ((-99.12224 19.45978, -99.12224 19.459...  \n",
       "13  POLYGON ((-99.11789 19.59059, -99.11860 19.584...  \n",
       "14  POLYGON ((-99.25581 19.40357, -99.25567 19.403...  "
      ],
      "text/html": [
       "<div>\n",
       "<style scoped>\n",
       "    .dataframe tbody tr th:only-of-type {\n",
       "        vertical-align: middle;\n",
       "    }\n",
       "\n",
       "    .dataframe tbody tr th {\n",
       "        vertical-align: top;\n",
       "    }\n",
       "\n",
       "    .dataframe thead th {\n",
       "        text-align: right;\n",
       "    }\n",
       "</style>\n",
       "<table border=\"1\" class=\"dataframe\">\n",
       "  <thead>\n",
       "    <tr style=\"text-align: right;\">\n",
       "      <th></th>\n",
       "      <th>CVEGEO</th>\n",
       "      <th>CVE_ENT</th>\n",
       "      <th>CVE_MUN</th>\n",
       "      <th>NOMGEO</th>\n",
       "      <th>NOM_ENT</th>\n",
       "      <th>COV_</th>\n",
       "      <th>COV_ID</th>\n",
       "      <th>AREA</th>\n",
       "      <th>PERIMETER</th>\n",
       "      <th>geometry</th>\n",
       "    </tr>\n",
       "  </thead>\n",
       "  <tbody>\n",
       "    <tr>\n",
       "      <th>9</th>\n",
       "      <td>09015</td>\n",
       "      <td>09</td>\n",
       "      <td>015</td>\n",
       "      <td>CUAUHTEMOC</td>\n",
       "      <td>Ciudad de México</td>\n",
       "      <td>284</td>\n",
       "      <td>285</td>\n",
       "      <td>3233.524482</td>\n",
       "      <td>24394.760015</td>\n",
       "      <td>POLYGON ((-99.12224 19.45978, -99.12224 19.459...</td>\n",
       "    </tr>\n",
       "    <tr>\n",
       "      <th>13</th>\n",
       "      <td>09005</td>\n",
       "      <td>09</td>\n",
       "      <td>005</td>\n",
       "      <td>GUSTAVO A. MADERO</td>\n",
       "      <td>Ciudad de México</td>\n",
       "      <td>288</td>\n",
       "      <td>289</td>\n",
       "      <td>8737.830624</td>\n",
       "      <td>56403.558051</td>\n",
       "      <td>POLYGON ((-99.11789 19.59059, -99.11860 19.584...</td>\n",
       "    </tr>\n",
       "    <tr>\n",
       "      <th>14</th>\n",
       "      <td>09004</td>\n",
       "      <td>09</td>\n",
       "      <td>004</td>\n",
       "      <td>CUAJIMALPA DE MORELOS</td>\n",
       "      <td>Ciudad de México</td>\n",
       "      <td>289</td>\n",
       "      <td>290</td>\n",
       "      <td>7076.185866</td>\n",
       "      <td>66252.498897</td>\n",
       "      <td>POLYGON ((-99.25581 19.40357, -99.25567 19.403...</td>\n",
       "    </tr>\n",
       "  </tbody>\n",
       "</table>\n",
       "</div>"
      ]
     },
     "execution_count": 16,
     "metadata": {},
     "output_type": "execute_result"
    }
   ],
   "execution_count": 16
  },
  {
   "metadata": {},
   "cell_type": "markdown",
   "source": [
    "## 5. Análisis de Variables Independientes\n",
    "\n",
    "Analizamos la densidad de población como una variable independiente que puede influir en la incidencia de robos.\n"
   ],
   "id": "ce79212e155c7bb5"
  },
  {
   "metadata": {},
   "cell_type": "markdown",
   "source": [
    "### 5.1. Densidad de poblacion\n",
    "\n",
    "Calculamos el área de cada alcaldía en kilómetros cuadrados.\n"
   ],
   "id": "fcbc83c6dfc66198"
  },
  {
   "metadata": {
    "ExecuteTime": {
     "end_time": "2024-12-09T03:24:13.624225Z",
     "start_time": "2024-12-09T03:24:13.613909Z"
    }
   },
   "cell_type": "code",
   "source": [
    "# Cálculo del área en km²\n",
    "agebs['area_km2'] = agebs['AREA'] / 100  # Asumiendo que el área original está en hectáreas\n",
    "\n",
    "# Creación del DataFrame de áreas\n",
    "area_alcaldia = agebs[['NOMGEO', 'AREA', 'area_km2']].copy()\n",
    "print(\"Columnas del DataFrame de áreas:\", area_alcaldia.columns.tolist())\n",
    "area_alcaldia.head()\n"
   ],
   "id": "1d58d00f469cd90",
   "outputs": [
    {
     "name": "stdout",
     "output_type": "stream",
     "text": [
      "Columnas del DataFrame de áreas: ['NOMGEO', 'AREA', 'area_km2']\n"
     ]
    },
    {
     "name": "stderr",
     "output_type": "stream",
     "text": [
      "/home/erik/miniconda3/lib/python3.12/site-packages/geopandas/geodataframe.py:1543: SettingWithCopyWarning: \n",
      "A value is trying to be set on a copy of a slice from a DataFrame.\n",
      "Try using .loc[row_indexer,col_indexer] = value instead\n",
      "\n",
      "See the caveats in the documentation: https://pandas.pydata.org/pandas-docs/stable/user_guide/indexing.html#returning-a-view-versus-a-copy\n",
      "  super().__setitem__(key, value)\n"
     ]
    },
    {
     "data": {
      "text/plain": [
       "                   NOMGEO         AREA   area_km2\n",
       "9              CUAUHTEMOC  3233.524482  32.335245\n",
       "13      GUSTAVO A. MADERO  8737.830624  87.378306\n",
       "14  CUAJIMALPA DE MORELOS  7076.185866  70.761859"
      ],
      "text/html": [
       "<div>\n",
       "<style scoped>\n",
       "    .dataframe tbody tr th:only-of-type {\n",
       "        vertical-align: middle;\n",
       "    }\n",
       "\n",
       "    .dataframe tbody tr th {\n",
       "        vertical-align: top;\n",
       "    }\n",
       "\n",
       "    .dataframe thead th {\n",
       "        text-align: right;\n",
       "    }\n",
       "</style>\n",
       "<table border=\"1\" class=\"dataframe\">\n",
       "  <thead>\n",
       "    <tr style=\"text-align: right;\">\n",
       "      <th></th>\n",
       "      <th>NOMGEO</th>\n",
       "      <th>AREA</th>\n",
       "      <th>area_km2</th>\n",
       "    </tr>\n",
       "  </thead>\n",
       "  <tbody>\n",
       "    <tr>\n",
       "      <th>9</th>\n",
       "      <td>CUAUHTEMOC</td>\n",
       "      <td>3233.524482</td>\n",
       "      <td>32.335245</td>\n",
       "    </tr>\n",
       "    <tr>\n",
       "      <th>13</th>\n",
       "      <td>GUSTAVO A. MADERO</td>\n",
       "      <td>8737.830624</td>\n",
       "      <td>87.378306</td>\n",
       "    </tr>\n",
       "    <tr>\n",
       "      <th>14</th>\n",
       "      <td>CUAJIMALPA DE MORELOS</td>\n",
       "      <td>7076.185866</td>\n",
       "      <td>70.761859</td>\n",
       "    </tr>\n",
       "  </tbody>\n",
       "</table>\n",
       "</div>"
      ]
     },
     "execution_count": 17,
     "metadata": {},
     "output_type": "execute_result"
    }
   ],
   "execution_count": 17
  },
  {
   "metadata": {
    "ExecuteTime": {
     "end_time": "2024-12-09T03:24:13.833380Z",
     "start_time": "2024-12-09T03:24:13.826763Z"
    }
   },
   "cell_type": "code",
   "source": [
    "# Creación del DataFrame de población por alcaldía\n",
    "poblacion_alcaldia_df = poblacion_alcaldia.reset_index()\n",
    "poblacion_alcaldia_df.columns = ['NOMGEO', 'poblacion']\n",
    "print(\"Columnas del DataFrame de población:\", poblacion_alcaldia_df.columns.tolist())\n",
    "poblacion_alcaldia_df.head()"
   ],
   "id": "f4bb2888f40d35a9",
   "outputs": [
    {
     "name": "stdout",
     "output_type": "stream",
     "text": [
      "Columnas del DataFrame de población: ['NOMGEO', 'poblacion']\n"
     ]
    },
    {
     "data": {
      "text/plain": [
       "                  NOMGEO  poblacion\n",
       "0  CUAJIMALPA DE MORELOS     216398\n",
       "1             CUAUHTEMOC     545818\n",
       "2      GUSTAVO A. MADERO    1173117"
      ],
      "text/html": [
       "<div>\n",
       "<style scoped>\n",
       "    .dataframe tbody tr th:only-of-type {\n",
       "        vertical-align: middle;\n",
       "    }\n",
       "\n",
       "    .dataframe tbody tr th {\n",
       "        vertical-align: top;\n",
       "    }\n",
       "\n",
       "    .dataframe thead th {\n",
       "        text-align: right;\n",
       "    }\n",
       "</style>\n",
       "<table border=\"1\" class=\"dataframe\">\n",
       "  <thead>\n",
       "    <tr style=\"text-align: right;\">\n",
       "      <th></th>\n",
       "      <th>NOMGEO</th>\n",
       "      <th>poblacion</th>\n",
       "    </tr>\n",
       "  </thead>\n",
       "  <tbody>\n",
       "    <tr>\n",
       "      <th>0</th>\n",
       "      <td>CUAJIMALPA DE MORELOS</td>\n",
       "      <td>216398</td>\n",
       "    </tr>\n",
       "    <tr>\n",
       "      <th>1</th>\n",
       "      <td>CUAUHTEMOC</td>\n",
       "      <td>545818</td>\n",
       "    </tr>\n",
       "    <tr>\n",
       "      <th>2</th>\n",
       "      <td>GUSTAVO A. MADERO</td>\n",
       "      <td>1173117</td>\n",
       "    </tr>\n",
       "  </tbody>\n",
       "</table>\n",
       "</div>"
      ]
     },
     "execution_count": 18,
     "metadata": {},
     "output_type": "execute_result"
    }
   ],
   "execution_count": 18
  },
  {
   "metadata": {
    "ExecuteTime": {
     "end_time": "2024-12-09T03:24:14.057869Z",
     "start_time": "2024-12-09T03:24:14.048233Z"
    }
   },
   "cell_type": "code",
   "source": [
    "# Unión de área y población\n",
    "densidad_df = area_alcaldia.merge(poblacion_alcaldia_df, on='NOMGEO')\n",
    "\n",
    "# Cálculo de la densidad de población\n",
    "densidad_df['densidad_poblacion'] = densidad_df['poblacion'] / densidad_df['area_km2']\n",
    "densidad_df = densidad_df[['NOMGEO', 'densidad_poblacion']]\n",
    "densidad_df.head()"
   ],
   "id": "ee9ee6ba07448a47",
   "outputs": [
    {
     "data": {
      "text/plain": [
       "                  NOMGEO  densidad_poblacion\n",
       "0             CUAUHTEMOC        16879.971159\n",
       "1      GUSTAVO A. MADERO        13425.723734\n",
       "2  CUAJIMALPA DE MORELOS         3058.116394"
      ],
      "text/html": [
       "<div>\n",
       "<style scoped>\n",
       "    .dataframe tbody tr th:only-of-type {\n",
       "        vertical-align: middle;\n",
       "    }\n",
       "\n",
       "    .dataframe tbody tr th {\n",
       "        vertical-align: top;\n",
       "    }\n",
       "\n",
       "    .dataframe thead th {\n",
       "        text-align: right;\n",
       "    }\n",
       "</style>\n",
       "<table border=\"1\" class=\"dataframe\">\n",
       "  <thead>\n",
       "    <tr style=\"text-align: right;\">\n",
       "      <th></th>\n",
       "      <th>NOMGEO</th>\n",
       "      <th>densidad_poblacion</th>\n",
       "    </tr>\n",
       "  </thead>\n",
       "  <tbody>\n",
       "    <tr>\n",
       "      <th>0</th>\n",
       "      <td>CUAUHTEMOC</td>\n",
       "      <td>16879.971159</td>\n",
       "    </tr>\n",
       "    <tr>\n",
       "      <th>1</th>\n",
       "      <td>GUSTAVO A. MADERO</td>\n",
       "      <td>13425.723734</td>\n",
       "    </tr>\n",
       "    <tr>\n",
       "      <th>2</th>\n",
       "      <td>CUAJIMALPA DE MORELOS</td>\n",
       "      <td>3058.116394</td>\n",
       "    </tr>\n",
       "  </tbody>\n",
       "</table>\n",
       "</div>"
      ]
     },
     "execution_count": 19,
     "metadata": {},
     "output_type": "execute_result"
    }
   ],
   "execution_count": 19
  },
  {
   "metadata": {
    "ExecuteTime": {
     "end_time": "2024-12-09T03:24:14.692471Z",
     "start_time": "2024-12-09T03:24:14.229932Z"
    }
   },
   "cell_type": "code",
   "source": [
    "# 5.1.1. Merge densidad_df with agebs\n",
    "agebs = agebs.merge(densidad_df, on='NOMGEO')\n",
    "\n",
    "# 5.1.2. Visualización de la Densidad de Población en un Mapa Choropleth\n",
    "fig, ax = plt.subplots(figsize=(10, 10))\n",
    "\n",
    "agebs.plot(column='densidad_poblacion',\n",
    "           cmap='Blues',\n",
    "           linewidth=0.8,\n",
    "           ax=ax,\n",
    "           edgecolor='0.8',\n",
    "           legend=True,\n",
    "           legend_kwds={'label': \"Densidad de Población (hab/km²)\",\n",
    "                       'orientation': \"horizontal\"})\n",
    "\n",
    "plt.title('Densidad de Población por Alcaldía (2010)', fontsize=15)\n",
    "plt.axis('off')\n",
    "plt.show()\n",
    "\n",
    "# 5.1.3. Visualización de la Densidad de Población en un Gráfico de Barras\n",
    "plt.figure(figsize=(8, 6))\n",
    "sns.barplot(x='NOMGEO', y='densidad_poblacion', data=densidad_df, palette='Blues_d')\n",
    "\n",
    "plt.xlabel('Alcaldía')\n",
    "plt.ylabel('Densidad de Población (hab/km²)')\n",
    "plt.title('Densidad de Población por Alcaldía (2010)')\n",
    "plt.show()\n"
   ],
   "id": "2a52e77f1ea858ca",
   "outputs": [
    {
     "data": {
      "text/plain": [
       "<Figure size 1000x1000 with 2 Axes>"
      ],
      "image/png": "[encoded data removed]"
     },
     "metadata": {},
     "output_type": "display_data"
    },
    {
     "name": "stderr",
     "output_type": "stream",
     "text": [
      "/tmp/ipykernel_18128/1417239059.py:22: FutureWarning: \n",
      "\n",
      "Passing `palette` without assigning `hue` is deprecated and will be removed in v0.14.0. Assign the `x` variable to `hue` and set `legend=False` for the same effect.\n",
      "\n",
      "  sns.barplot(x='NOMGEO', y='densidad_poblacion', data=densidad_df, palette='Blues_d')\n"
     ]
    },
    {
     "data": {
      "text/plain": [
       "<Figure size 800x600 with 1 Axes>"
      ],
      "image/png": "[encoded data removed]"
     },
     "metadata": {},
     "output_type": "display_data"
    }
   ],
   "execution_count": 20
  },
  {
   "metadata": {},
   "cell_type": "markdown",
   "source": [
    "### 5.2. Datos de Escolaridad\n",
    "\n",
    "En esta sección, incorporamos el dataset `escolaridad.csv`, que contiene información sobre indicadores educativos por municipio en la Ciudad de México para el año 2020. Analizaremos estos datos en el contexto de las alcaldías de interés seleccionadas previamente.\n"
   ],
   "id": "7438db7efdfc3efb"
  },
  {
   "metadata": {
    "ExecuteTime": {
     "end_time": "2024-12-09T03:24:14.775292Z",
     "start_time": "2024-12-09T03:24:14.755617Z"
    }
   },
   "cell_type": "code",
   "source": [
    "# Carga del dataset de escolaridad\n",
    "escolaridad = pd.read_csv('escolaridad.csv')\n",
    "escolaridad = escolaridad[['Municipio', 'Grado de escolaridad promedio']]\n",
    "\n",
    "# Mostrar las primeras filas del dataset\n",
    "print(\"Dimensiones del Dataset de Escolaridad:\", escolaridad.shape)\n",
    "escolaridad.head()"
   ],
   "id": "5d5e851063aec1ce",
   "outputs": [
    {
     "name": "stdout",
     "output_type": "stream",
     "text": [
      "Dimensiones del Dataset de Escolaridad: (17, 2)\n"
     ]
    },
    {
     "data": {
      "text/plain": [
       "               Municipio  Grado de escolaridad promedio\n",
       "0       Ciudad de México                          11.48\n",
       "1           Azcapotzalco                          11.91\n",
       "2               Coyoacán                          12.51\n",
       "3  CUAJIMALPA DE MORELOS                          11.44\n",
       "4      GUSTAVO A. MADERO                          11.32"
      ],
      "text/html": [
       "<div>\n",
       "<style scoped>\n",
       "    .dataframe tbody tr th:only-of-type {\n",
       "        vertical-align: middle;\n",
       "    }\n",
       "\n",
       "    .dataframe tbody tr th {\n",
       "        vertical-align: top;\n",
       "    }\n",
       "\n",
       "    .dataframe thead th {\n",
       "        text-align: right;\n",
       "    }\n",
       "</style>\n",
       "<table border=\"1\" class=\"dataframe\">\n",
       "  <thead>\n",
       "    <tr style=\"text-align: right;\">\n",
       "      <th></th>\n",
       "      <th>Municipio</th>\n",
       "      <th>Grado de escolaridad promedio</th>\n",
       "    </tr>\n",
       "  </thead>\n",
       "  <tbody>\n",
       "    <tr>\n",
       "      <th>0</th>\n",
       "      <td>Ciudad de México</td>\n",
       "      <td>11.48</td>\n",
       "    </tr>\n",
       "    <tr>\n",
       "      <th>1</th>\n",
       "      <td>Azcapotzalco</td>\n",
       "      <td>11.91</td>\n",
       "    </tr>\n",
       "    <tr>\n",
       "      <th>2</th>\n",
       "      <td>Coyoacán</td>\n",
       "      <td>12.51</td>\n",
       "    </tr>\n",
       "    <tr>\n",
       "      <th>3</th>\n",
       "      <td>CUAJIMALPA DE MORELOS</td>\n",
       "      <td>11.44</td>\n",
       "    </tr>\n",
       "    <tr>\n",
       "      <th>4</th>\n",
       "      <td>GUSTAVO A. MADERO</td>\n",
       "      <td>11.32</td>\n",
       "    </tr>\n",
       "  </tbody>\n",
       "</table>\n",
       "</div>"
      ]
     },
     "execution_count": 21,
     "metadata": {},
     "output_type": "execute_result"
    }
   ],
   "execution_count": 21
  },
  {
   "metadata": {},
   "cell_type": "markdown",
   "source": [
    "#### Descripción de las Columnas\n",
    "\n",
    "El dataset de escolaridad contiene las siguientes columnas:\n",
    "\n",
    "1. **Clave municipio**: Código numérico único que identifica cada municipio.\n",
    "2. **Municipio**: Nombre del municipio correspondiente a la clave.\n",
    "3. **Población que no asiste a la escuela de 3 a 5 años (%)**: Porcentaje de la población de 3 a 5 años que no asiste a la escuela.\n",
    "4. **Población que no asiste a la escuela de 6 a 11 años (%)**: Porcentaje de la población de 6 a 11 años que no asiste a la escuela.\n",
    "5. **Población que no asiste a la escuela de 12 a 14 años (%)**: Porcentaje de la población de 12 a 14 años que no asiste a la escuela.\n",
    "6. **Población que asiste a la escuela de 15 a 17 años (%)**: Porcentaje de la población de 15 a 17 años que asiste a la escuela.\n",
    "7. **Población que no sabe leer y escribir (%, 15 años o más)**: Porcentaje de la población mayor de 15 años que no sabe leer y escribir.\n",
    "8. **Grado de escolaridad promedio**: Promedio de los años de escolaridad alcanzados por la población.\n",
    "9. **Índice de marginación**: Nivel de marginación del municipio (todos los municipios tienen la clasificación \"Muy bajo\").\n"
   ],
   "id": "b4274874863f170b"
  },
  {
   "metadata": {},
   "cell_type": "markdown",
   "source": [
    "#### Filtrado de Alcaldías de Interés\n",
    "\n",
    "Filtramos el dataset de escolaridad para mantener únicamente las alcaldías de interés previamente definidas:\n",
    "- CUAUHTEMOC\n",
    "- GUSTAVO A. MADERO\n",
    "- CUAJIMALPA DE MORELOS\n",
    "\n",
    "Esto nos permitirá realizar un análisis más enfocado y relevante.\n"
   ],
   "id": "4754aaa0ec78a2c5"
  },
  {
   "metadata": {
    "ExecuteTime": {
     "end_time": "2024-12-09T03:24:14.940122Z",
     "start_time": "2024-12-09T03:24:14.933639Z"
    }
   },
   "cell_type": "code",
   "source": [
    "# Filtrado de escolaridad por alcaldías de interés\n",
    "escolaridad = escolaridad[escolaridad['Municipio'].isin(alcaldias_interes)]\n",
    "\n",
    "# Mostrar las primeras filas del dataset filtrado\n",
    "print(\"Dimensiones del Dataset de Escolaridad Filtrado:\", escolaridad.shape)\n",
    "escolaridad.head()"
   ],
   "id": "2c56c38bd32518e5",
   "outputs": [
    {
     "name": "stdout",
     "output_type": "stream",
     "text": [
      "Dimensiones del Dataset de Escolaridad Filtrado: (3, 2)\n"
     ]
    },
    {
     "data": {
      "text/plain": [
       "                Municipio  Grado de escolaridad promedio\n",
       "3   CUAJIMALPA DE MORELOS                          11.44\n",
       "4       GUSTAVO A. MADERO                          11.32\n",
       "14             CUAUHTEMOC                          13.32"
      ],
      "text/html": [
       "<div>\n",
       "<style scoped>\n",
       "    .dataframe tbody tr th:only-of-type {\n",
       "        vertical-align: middle;\n",
       "    }\n",
       "\n",
       "    .dataframe tbody tr th {\n",
       "        vertical-align: top;\n",
       "    }\n",
       "\n",
       "    .dataframe thead th {\n",
       "        text-align: right;\n",
       "    }\n",
       "</style>\n",
       "<table border=\"1\" class=\"dataframe\">\n",
       "  <thead>\n",
       "    <tr style=\"text-align: right;\">\n",
       "      <th></th>\n",
       "      <th>Municipio</th>\n",
       "      <th>Grado de escolaridad promedio</th>\n",
       "    </tr>\n",
       "  </thead>\n",
       "  <tbody>\n",
       "    <tr>\n",
       "      <th>3</th>\n",
       "      <td>CUAJIMALPA DE MORELOS</td>\n",
       "      <td>11.44</td>\n",
       "    </tr>\n",
       "    <tr>\n",
       "      <th>4</th>\n",
       "      <td>GUSTAVO A. MADERO</td>\n",
       "      <td>11.32</td>\n",
       "    </tr>\n",
       "    <tr>\n",
       "      <th>14</th>\n",
       "      <td>CUAUHTEMOC</td>\n",
       "      <td>13.32</td>\n",
       "    </tr>\n",
       "  </tbody>\n",
       "</table>\n",
       "</div>"
      ]
     },
     "execution_count": 22,
     "metadata": {},
     "output_type": "execute_result"
    }
   ],
   "execution_count": 22
  },
  {
   "metadata": {
    "ExecuteTime": {
     "end_time": "2024-12-09T03:24:15.281070Z",
     "start_time": "2024-12-09T03:24:15.104458Z"
    }
   },
   "cell_type": "code",
   "source": [
    "# 5.2.1. Visualización del Grado de Escolaridad Promedio por Alcaldía\n",
    "\n",
    "plt.figure(figsize=(8,6))\n",
    "sns.barplot(x='Municipio', y='Grado de escolaridad promedio', data=escolaridad, palette='Blues_d')\n",
    "plt.xlabel('Alcaldía')\n",
    "plt.ylabel('Grado de Escolaridad Promedio (años)')\n",
    "plt.title('Grado de Escolaridad Promedio por Alcaldía (2020)')\n",
    "plt.show()\n"
   ],
   "id": "d7cbc2a0bcfe2513",
   "outputs": [
    {
     "name": "stderr",
     "output_type": "stream",
     "text": [
      "/tmp/ipykernel_18128/1312952734.py:4: FutureWarning: \n",
      "\n",
      "Passing `palette` without assigning `hue` is deprecated and will be removed in v0.14.0. Assign the `x` variable to `hue` and set `legend=False` for the same effect.\n",
      "\n",
      "  sns.barplot(x='Municipio', y='Grado de escolaridad promedio', data=escolaridad, palette='Blues_d')\n"
     ]
    },
    {
     "data": {
      "text/plain": [
       "<Figure size 800x600 with 1 Axes>"
      ],
      "image/png": "[encoded data removed]"
     },
     "metadata": {},
     "output_type": "display_data"
    }
   ],
   "execution_count": 23
  },
  {
   "metadata": {
    "ExecuteTime": {
     "end_time": "2024-12-09T03:24:15.734754Z",
     "start_time": "2024-12-09T03:24:15.465947Z"
    }
   },
   "cell_type": "code",
   "source": [
    "# 5.2.2. Visualización Geoespacial del Grado de Escolaridad Promedio\n",
    "\n",
    "# Renombrar la columna 'Municipio' a 'NOMGEO' para facilitar el merge\n",
    "escolaridad = escolaridad.rename(columns={'Municipio': 'NOMGEO'})\n",
    "\n",
    "# Merge de los datos de escolaridad con el GeoDataFrame de las alcaldías\n",
    "agebs = agebs.merge(escolaridad, on='NOMGEO')\n",
    "\n",
    "# Configuración de la figura\n",
    "fig, ax = plt.subplots(figsize=(10, 10))\n",
    "\n",
    "# Creación del mapa choropleth\n",
    "agebs.plot(column='Grado de escolaridad promedio',\n",
    "           cmap='Greens',\n",
    "           linewidth=0.8,\n",
    "           ax=ax,\n",
    "           edgecolor='0.8',\n",
    "           legend=True,\n",
    "           legend_kwds={'label': \"Grado de Escolaridad Promedio (años)\",\n",
    "                       'orientation': \"horizontal\"})\n",
    "\n",
    "# Añadir etiquetas y título\n",
    "plt.title('Grado de Escolaridad Promedio por Alcaldía (2020)', fontsize=15)\n",
    "plt.axis('off')  # Ocultar ejes\n",
    "\n",
    "# Mostrar el mapa\n",
    "plt.show()"
   ],
   "id": "3d012f5e6fe175c1",
   "outputs": [
    {
     "data": {
      "text/plain": [
       "<Figure size 1000x1000 with 2 Axes>"
      ],
      "image/png": "[encoded data removed]"
     },
     "metadata": {},
     "output_type": "display_data"
    }
   ],
   "execution_count": 24
  },
  {
   "metadata": {},
   "cell_type": "markdown",
   "source": [
    "### 5.3. Conteo de Escuelas en las Alcaldías de Interés\n",
    "\n",
    "En esta sección, analizamos la cantidad de **escuelas públicas** y **escuelas privadas** en las alcaldías de interés seleccionadas:\n",
    "- **CUAUHTEMOC**\n",
    "- **GUSTAVO A. MADERO**\n",
    "- **CUAJIMALPA DE MORELOS**\n",
    "\n",
    "Utilizaremos dos datasets:\n",
    "- `escuelas_privadas.csv`\n",
    "- `escuelas_publicas.csv`\n",
    "\n",
    "Nuestro objetivo es obtener el número de escuelas de cada tipo por alcaldía."
   ],
   "id": "c10e08c02716726f"
  },
  {
   "metadata": {
    "ExecuteTime": {
     "end_time": "2024-12-09T03:24:15.803247Z",
     "start_time": "2024-12-09T03:24:15.768827Z"
    }
   },
   "cell_type": "code",
   "source": [
    "# Carga de datasets de escuelas privadas y públicas\n",
    "escuelas_privadas = pd.read_csv('escuelas_privadas.csv')\n",
    "escuelas_publicas = pd.read_csv('escuelas_publicas.csv')\n",
    "\n",
    "# Mostrar las primeras filas de cada dataset para verificar la carga\n",
    "print(\"Escuelas Privadas:\")\n",
    "escuelas_privadas.head()\n",
    "\n",
    "print(\"\\nEscuelas Públicas:\")\n",
    "escuelas_publicas.head()"
   ],
   "id": "e980cf01fdad6f2c",
   "outputs": [
    {
     "name": "stdout",
     "output_type": "stream",
     "text": [
      "Escuelas Privadas:\n",
      "\n",
      "Escuelas Públicas:\n"
     ]
    },
    {
     "data": {
      "text/plain": [
       "                                              nombre  \\\n",
       "0                                  TELESECUNDARIA 63   \n",
       "1  PREESCOLAR GENERAL CON SERVICIO ASISTENCIAL - ...   \n",
       "2           PREESCOLAR GENERAL - ESTADO DE ZACATECAS   \n",
       "3    PRIMARIA GENERAL - PROFRA. AMANDA PALAFOX Y BAZ   \n",
       "4          PRIMARIA GENERAL - VALENTIN ZAMORA OROZCO   \n",
       "\n",
       "                                           domicilio  \\\n",
       "0  ADMON U HAB CAMPAÑA DEL EBANO Y C CELAYA S/N, ...   \n",
       "1  PLAYA FLAMINGOS NO 1, MILITAR MARTE, DELEGACIO...   \n",
       "2  CANAL DE SAN JUAN Y SUR 14 C, AGRICOLA ORIENTA...   \n",
       "3  MONTE ELBRUZ NO 15, LOS VOLCANES, DELEGACION T...   \n",
       "4  RETORNO 33 Y 34 S/N, AVANTE, DELEGACION COYOAC...   \n",
       "\n",
       "                                    colonia    alcaldia    latitud   longitud  \n",
       "0  VICENTE GUERRERO SUPER MANZANA 6 (U HAB)  IZTAPALAPA  19.353163 -99.054242  \n",
       "1                             MILITAR MARTE   IZTACALCO  19.379224 -99.125583  \n",
       "2                      AGRICOLA ORIENTAL VI   IZTACALCO  19.392689 -99.059337  \n",
       "3                              LOS VOLCANES     TLALPAN  19.269762 -99.176748  \n",
       "4                                    AVANTE    COYOACAN  19.328474 -99.130933  "
      ],
      "text/html": [
       "<div>\n",
       "<style scoped>\n",
       "    .dataframe tbody tr th:only-of-type {\n",
       "        vertical-align: middle;\n",
       "    }\n",
       "\n",
       "    .dataframe tbody tr th {\n",
       "        vertical-align: top;\n",
       "    }\n",
       "\n",
       "    .dataframe thead th {\n",
       "        text-align: right;\n",
       "    }\n",
       "</style>\n",
       "<table border=\"1\" class=\"dataframe\">\n",
       "  <thead>\n",
       "    <tr style=\"text-align: right;\">\n",
       "      <th></th>\n",
       "      <th>nombre</th>\n",
       "      <th>domicilio</th>\n",
       "      <th>colonia</th>\n",
       "      <th>alcaldia</th>\n",
       "      <th>latitud</th>\n",
       "      <th>longitud</th>\n",
       "    </tr>\n",
       "  </thead>\n",
       "  <tbody>\n",
       "    <tr>\n",
       "      <th>0</th>\n",
       "      <td>TELESECUNDARIA 63</td>\n",
       "      <td>ADMON U HAB CAMPAÑA DEL EBANO Y C CELAYA S/N, ...</td>\n",
       "      <td>VICENTE GUERRERO SUPER MANZANA 6 (U HAB)</td>\n",
       "      <td>IZTAPALAPA</td>\n",
       "      <td>19.353163</td>\n",
       "      <td>-99.054242</td>\n",
       "    </tr>\n",
       "    <tr>\n",
       "      <th>1</th>\n",
       "      <td>PREESCOLAR GENERAL CON SERVICIO ASISTENCIAL - ...</td>\n",
       "      <td>PLAYA FLAMINGOS NO 1, MILITAR MARTE, DELEGACIO...</td>\n",
       "      <td>MILITAR MARTE</td>\n",
       "      <td>IZTACALCO</td>\n",
       "      <td>19.379224</td>\n",
       "      <td>-99.125583</td>\n",
       "    </tr>\n",
       "    <tr>\n",
       "      <th>2</th>\n",
       "      <td>PREESCOLAR GENERAL - ESTADO DE ZACATECAS</td>\n",
       "      <td>CANAL DE SAN JUAN Y SUR 14 C, AGRICOLA ORIENTA...</td>\n",
       "      <td>AGRICOLA ORIENTAL VI</td>\n",
       "      <td>IZTACALCO</td>\n",
       "      <td>19.392689</td>\n",
       "      <td>-99.059337</td>\n",
       "    </tr>\n",
       "    <tr>\n",
       "      <th>3</th>\n",
       "      <td>PRIMARIA GENERAL - PROFRA. AMANDA PALAFOX Y BAZ</td>\n",
       "      <td>MONTE ELBRUZ NO 15, LOS VOLCANES, DELEGACION T...</td>\n",
       "      <td>LOS VOLCANES</td>\n",
       "      <td>TLALPAN</td>\n",
       "      <td>19.269762</td>\n",
       "      <td>-99.176748</td>\n",
       "    </tr>\n",
       "    <tr>\n",
       "      <th>4</th>\n",
       "      <td>PRIMARIA GENERAL - VALENTIN ZAMORA OROZCO</td>\n",
       "      <td>RETORNO 33 Y 34 S/N, AVANTE, DELEGACION COYOAC...</td>\n",
       "      <td>AVANTE</td>\n",
       "      <td>COYOACAN</td>\n",
       "      <td>19.328474</td>\n",
       "      <td>-99.130933</td>\n",
       "    </tr>\n",
       "  </tbody>\n",
       "</table>\n",
       "</div>"
      ]
     },
     "execution_count": 25,
     "metadata": {},
     "output_type": "execute_result"
    }
   ],
   "execution_count": 25
  },
  {
   "metadata": {
    "ExecuteTime": {
     "end_time": "2024-12-09T03:24:15.870566Z",
     "start_time": "2024-12-09T03:24:15.857139Z"
    }
   },
   "cell_type": "code",
   "source": [
    "# Filtrar escuelas privadas por alcaldías de interés\n",
    "escuelas_privadas = escuelas_privadas[escuelas_privadas['alcaldia'].isin(alcaldias_interes)]\n",
    "print(\"Escuelas Privadas Filtradas:\")\n",
    "escuelas_privadas.head()\n",
    "\n",
    "# Filtrar escuelas públicas por alcaldías de interés\n",
    "escuelas_publicas = escuelas_publicas[escuelas_publicas['alcaldia'].isin(alcaldias_interes)]\n",
    "print(\"\\nEscuelas Públicas Filtradas:\")\n",
    "escuelas_publicas.head()\n"
   ],
   "id": "6638380b352b9684",
   "outputs": [
    {
     "name": "stdout",
     "output_type": "stream",
     "text": [
      "Escuelas Privadas Filtradas:\n",
      "\n",
      "Escuelas Públicas Filtradas:\n"
     ]
    },
    {
     "data": {
      "text/plain": [
       "                                               nombre  \\\n",
       "14                   PREESCOLAR GENERAL - 10 DE ABRIL   \n",
       "16  PRIMARIA GENERAL - PROFRA. GUADALUPE MAYOL DE ...   \n",
       "21                    PRIMARIA GENERAL - NIÑOS HEROES   \n",
       "29            PRIMARIA GENERAL - DR. SALVADOR ALLENDE   \n",
       "30               PRIMARIA GENERAL - REGENTE URUCHURTU   \n",
       "\n",
       "                                            domicilio  \\\n",
       "14  CERRADA LEANDRO VALLE S/N, SAN LORENZO ACOPILC...   \n",
       "16  SARASATE NO 94 BIS, PERALVILLO, DELEGACION CUA...   \n",
       "21  CALLE SANTA RITA NO 230, LOMAS DEL PADRE, DELE...   \n",
       "29  BLVD DEL TEMOLUCO Y LA ESCOLLERA, CONJ HAB ACU...   \n",
       "30  CALLE 1 NO 26, SAN JOSE DE LA ESCALERA, DELEGA...   \n",
       "\n",
       "                           colonia               alcaldia    latitud  \\\n",
       "14     SAN LORENZO ACOPILCO (PBLO)  CUAJIMALPA DE MORELOS  19.328958   \n",
       "16                       MORELOS I             CUAUHTEMOC  19.450117   \n",
       "21                  LOMA DEL PADRE  CUAJIMALPA DE MORELOS  19.351992   \n",
       "29  ACUEDUCTO DE GUADALUPE (U HAB)      GUSTAVO A. MADERO  19.524836   \n",
       "30         SAN JOSE DE LA ESCALERA      GUSTAVO A. MADERO  19.523200   \n",
       "\n",
       "     longitud  \n",
       "14 -99.327216  \n",
       "16 -99.131868  \n",
       "21 -99.308974  \n",
       "29 -99.148309  \n",
       "30 -99.164108  "
      ],
      "text/html": [
       "<div>\n",
       "<style scoped>\n",
       "    .dataframe tbody tr th:only-of-type {\n",
       "        vertical-align: middle;\n",
       "    }\n",
       "\n",
       "    .dataframe tbody tr th {\n",
       "        vertical-align: top;\n",
       "    }\n",
       "\n",
       "    .dataframe thead th {\n",
       "        text-align: right;\n",
       "    }\n",
       "</style>\n",
       "<table border=\"1\" class=\"dataframe\">\n",
       "  <thead>\n",
       "    <tr style=\"text-align: right;\">\n",
       "      <th></th>\n",
       "      <th>nombre</th>\n",
       "      <th>domicilio</th>\n",
       "      <th>colonia</th>\n",
       "      <th>alcaldia</th>\n",
       "      <th>latitud</th>\n",
       "      <th>longitud</th>\n",
       "    </tr>\n",
       "  </thead>\n",
       "  <tbody>\n",
       "    <tr>\n",
       "      <th>14</th>\n",
       "      <td>PREESCOLAR GENERAL - 10 DE ABRIL</td>\n",
       "      <td>CERRADA LEANDRO VALLE S/N, SAN LORENZO ACOPILC...</td>\n",
       "      <td>SAN LORENZO ACOPILCO (PBLO)</td>\n",
       "      <td>CUAJIMALPA DE MORELOS</td>\n",
       "      <td>19.328958</td>\n",
       "      <td>-99.327216</td>\n",
       "    </tr>\n",
       "    <tr>\n",
       "      <th>16</th>\n",
       "      <td>PRIMARIA GENERAL - PROFRA. GUADALUPE MAYOL DE ...</td>\n",
       "      <td>SARASATE NO 94 BIS, PERALVILLO, DELEGACION CUA...</td>\n",
       "      <td>MORELOS I</td>\n",
       "      <td>CUAUHTEMOC</td>\n",
       "      <td>19.450117</td>\n",
       "      <td>-99.131868</td>\n",
       "    </tr>\n",
       "    <tr>\n",
       "      <th>21</th>\n",
       "      <td>PRIMARIA GENERAL - NIÑOS HEROES</td>\n",
       "      <td>CALLE SANTA RITA NO 230, LOMAS DEL PADRE, DELE...</td>\n",
       "      <td>LOMA DEL PADRE</td>\n",
       "      <td>CUAJIMALPA DE MORELOS</td>\n",
       "      <td>19.351992</td>\n",
       "      <td>-99.308974</td>\n",
       "    </tr>\n",
       "    <tr>\n",
       "      <th>29</th>\n",
       "      <td>PRIMARIA GENERAL - DR. SALVADOR ALLENDE</td>\n",
       "      <td>BLVD DEL TEMOLUCO Y LA ESCOLLERA, CONJ HAB ACU...</td>\n",
       "      <td>ACUEDUCTO DE GUADALUPE (U HAB)</td>\n",
       "      <td>GUSTAVO A. MADERO</td>\n",
       "      <td>19.524836</td>\n",
       "      <td>-99.148309</td>\n",
       "    </tr>\n",
       "    <tr>\n",
       "      <th>30</th>\n",
       "      <td>PRIMARIA GENERAL - REGENTE URUCHURTU</td>\n",
       "      <td>CALLE 1 NO 26, SAN JOSE DE LA ESCALERA, DELEGA...</td>\n",
       "      <td>SAN JOSE DE LA ESCALERA</td>\n",
       "      <td>GUSTAVO A. MADERO</td>\n",
       "      <td>19.523200</td>\n",
       "      <td>-99.164108</td>\n",
       "    </tr>\n",
       "  </tbody>\n",
       "</table>\n",
       "</div>"
      ]
     },
     "execution_count": 26,
     "metadata": {},
     "output_type": "execute_result"
    }
   ],
   "execution_count": 26
  },
  {
   "metadata": {},
   "cell_type": "markdown",
   "source": [
    "#### Conteo de Escuelas por Alcaldía\n",
    "\n",
    "Calculamos la cantidad de escuelas privadas y públicas en cada alcaldía de interés."
   ],
   "id": "cc53cdfd2492f77f"
  },
  {
   "metadata": {
    "ExecuteTime": {
     "end_time": "2024-12-09T03:24:16.023039Z",
     "start_time": "2024-12-09T03:24:16.008798Z"
    }
   },
   "cell_type": "code",
   "source": [
    "# Conteo de escuelas privadas por alcaldía\n",
    "conteo_privadas = escuelas_privadas.groupby('alcaldia').size().reset_index(name='escuelas_privadas')\n",
    "print(\"Conteo de Escuelas Privadas por Alcaldía:\")\n",
    "print(conteo_privadas)\n",
    "\n",
    "# Conteo de escuelas públicas por alcaldía\n",
    "conteo_publicas = escuelas_publicas.groupby('alcaldia').size().reset_index(name='escuelas_publicas')\n",
    "print(\"\\nConteo de Escuelas Públicas por Alcaldía:\")\n",
    "print(conteo_publicas)\n",
    "\n",
    "# Combinar ambos conteos en un solo DataFrame\n",
    "conteo_total_escuelas = pd.merge(conteo_privadas, conteo_publicas, on='alcaldia', how='outer').fillna(0)\n",
    "\n",
    "# Reemplazar NaN por 0 y convertir a enteros\n",
    "conteo_total_escuelas['escuelas_privadas'] = conteo_total_escuelas['escuelas_privadas'].astype(int)\n",
    "conteo_total_escuelas['escuelas_publicas'] = conteo_total_escuelas['escuelas_publicas'].astype(int)\n",
    "\n",
    "print(\"\\nConteo Total de Escuelas por Alcaldía:\")\n",
    "conteo_total_escuelas"
   ],
   "id": "c4446c9f6564b637",
   "outputs": [
    {
     "name": "stdout",
     "output_type": "stream",
     "text": [
      "Conteo de Escuelas Privadas por Alcaldía:\n",
      "                alcaldia  escuelas_privadas\n",
      "0  CUAJIMALPA DE MORELOS                158\n",
      "1             CUAUHTEMOC                189\n",
      "2      GUSTAVO A. MADERO                467\n",
      "\n",
      "Conteo de Escuelas Públicas por Alcaldía:\n",
      "                alcaldia  escuelas_publicas\n",
      "0  CUAJIMALPA DE MORELOS                 36\n",
      "1             CUAUHTEMOC                218\n",
      "2      GUSTAVO A. MADERO                368\n",
      "\n",
      "Conteo Total de Escuelas por Alcaldía:\n"
     ]
    },
    {
     "data": {
      "text/plain": [
       "                alcaldia  escuelas_privadas  escuelas_publicas\n",
       "0  CUAJIMALPA DE MORELOS                158                 36\n",
       "1             CUAUHTEMOC                189                218\n",
       "2      GUSTAVO A. MADERO                467                368"
      ],
      "text/html": [
       "<div>\n",
       "<style scoped>\n",
       "    .dataframe tbody tr th:only-of-type {\n",
       "        vertical-align: middle;\n",
       "    }\n",
       "\n",
       "    .dataframe tbody tr th {\n",
       "        vertical-align: top;\n",
       "    }\n",
       "\n",
       "    .dataframe thead th {\n",
       "        text-align: right;\n",
       "    }\n",
       "</style>\n",
       "<table border=\"1\" class=\"dataframe\">\n",
       "  <thead>\n",
       "    <tr style=\"text-align: right;\">\n",
       "      <th></th>\n",
       "      <th>alcaldia</th>\n",
       "      <th>escuelas_privadas</th>\n",
       "      <th>escuelas_publicas</th>\n",
       "    </tr>\n",
       "  </thead>\n",
       "  <tbody>\n",
       "    <tr>\n",
       "      <th>0</th>\n",
       "      <td>CUAJIMALPA DE MORELOS</td>\n",
       "      <td>158</td>\n",
       "      <td>36</td>\n",
       "    </tr>\n",
       "    <tr>\n",
       "      <th>1</th>\n",
       "      <td>CUAUHTEMOC</td>\n",
       "      <td>189</td>\n",
       "      <td>218</td>\n",
       "    </tr>\n",
       "    <tr>\n",
       "      <th>2</th>\n",
       "      <td>GUSTAVO A. MADERO</td>\n",
       "      <td>467</td>\n",
       "      <td>368</td>\n",
       "    </tr>\n",
       "  </tbody>\n",
       "</table>\n",
       "</div>"
      ]
     },
     "execution_count": 27,
     "metadata": {},
     "output_type": "execute_result"
    }
   ],
   "execution_count": 27
  },
  {
   "metadata": {
    "ExecuteTime": {
     "end_time": "2024-12-09T03:24:16.374957Z",
     "start_time": "2024-12-09T03:24:16.236624Z"
    }
   },
   "cell_type": "code",
   "source": [
    "# Configuración de estilo para los gráficos\n",
    "sns.set(style=\"whitegrid\")\n",
    "\n",
    "# Configuración de la figura\n",
    "fig, ax = plt.subplots(figsize=(10, 6))\n",
    "\n",
    "# Posición de las barras\n",
    "bar_width = 0.35\n",
    "index = np.arange(len(conteo_total_escuelas))\n",
    "\n",
    "# Barras para escuelas privadas\n",
    "bar1 = ax.bar(index, conteo_total_escuelas['escuelas_privadas'], bar_width, label='Privadas', color='skyblue')\n",
    "\n",
    "# Barras para escuelas públicas\n",
    "bar2 = ax.bar(index + bar_width, conteo_total_escuelas['escuelas_publicas'], bar_width, label='Públicas', color='salmon')\n",
    "\n",
    "# Añadir etiquetas y título\n",
    "ax.set_xlabel('Alcaldía')\n",
    "ax.set_ylabel('Cantidad de Escuelas')\n",
    "ax.set_title('Cantidad de Escuelas Privadas y Públicas por Alcaldía')\n",
    "ax.set_xticks(index + bar_width / 2)\n",
    "ax.set_xticklabels(conteo_total_escuelas['alcaldia'])\n",
    "ax.legend()\n",
    "\n",
    "# Mostrar el gráfico\n",
    "plt.show()\n"
   ],
   "id": "bf82dbe2eef5ebcb",
   "outputs": [
    {
     "data": {
      "text/plain": [
       "<Figure size 1000x600 with 1 Axes>"
      ],
      "image/png": "[encoded data removed]"
     },
     "metadata": {},
     "output_type": "display_data"
    }
   ],
   "execution_count": 28
  },
  {
   "metadata": {
    "ExecuteTime": {
     "end_time": "2024-12-09T03:24:16.522979Z",
     "start_time": "2024-12-09T03:24:16.499994Z"
    }
   },
   "cell_type": "code",
   "source": [
    "print(agebs.columns)\n",
    "agebs"
   ],
   "id": "f1c81c4a1b422f1e",
   "outputs": [
    {
     "name": "stdout",
     "output_type": "stream",
     "text": [
      "Index(['CVEGEO', 'CVE_ENT', 'CVE_MUN', 'NOMGEO', 'NOM_ENT', 'COV_', 'COV_ID',\n",
      "       'AREA', 'PERIMETER', 'geometry', 'area_km2', 'densidad_poblacion',\n",
      "       'Grado de escolaridad promedio'],\n",
      "      dtype='object')\n"
     ]
    },
    {
     "data": {
      "text/plain": [
       "  CVEGEO CVE_ENT CVE_MUN                 NOMGEO           NOM_ENT  COV_  \\\n",
       "0  09015      09     015             CUAUHTEMOC  Ciudad de México   284   \n",
       "1  09005      09     005      GUSTAVO A. MADERO  Ciudad de México   288   \n",
       "2  09004      09     004  CUAJIMALPA DE MORELOS  Ciudad de México   289   \n",
       "\n",
       "   COV_ID         AREA     PERIMETER  \\\n",
       "0     285  3233.524482  24394.760015   \n",
       "1     289  8737.830624  56403.558051   \n",
       "2     290  7076.185866  66252.498897   \n",
       "\n",
       "                                            geometry   area_km2  \\\n",
       "0  POLYGON ((-99.12224 19.45978, -99.12224 19.459...  32.335245   \n",
       "1  POLYGON ((-99.11789 19.59059, -99.11860 19.584...  87.378306   \n",
       "2  POLYGON ((-99.25581 19.40357, -99.25567 19.403...  70.761859   \n",
       "\n",
       "   densidad_poblacion  Grado de escolaridad promedio  \n",
       "0        16879.971159                          13.32  \n",
       "1        13425.723734                          11.32  \n",
       "2         3058.116394                          11.44  "
      ],
      "text/html": [
       "<div>\n",
       "<style scoped>\n",
       "    .dataframe tbody tr th:only-of-type {\n",
       "        vertical-align: middle;\n",
       "    }\n",
       "\n",
       "    .dataframe tbody tr th {\n",
       "        vertical-align: top;\n",
       "    }\n",
       "\n",
       "    .dataframe thead th {\n",
       "        text-align: right;\n",
       "    }\n",
       "</style>\n",
       "<table border=\"1\" class=\"dataframe\">\n",
       "  <thead>\n",
       "    <tr style=\"text-align: right;\">\n",
       "      <th></th>\n",
       "      <th>CVEGEO</th>\n",
       "      <th>CVE_ENT</th>\n",
       "      <th>CVE_MUN</th>\n",
       "      <th>NOMGEO</th>\n",
       "      <th>NOM_ENT</th>\n",
       "      <th>COV_</th>\n",
       "      <th>COV_ID</th>\n",
       "      <th>AREA</th>\n",
       "      <th>PERIMETER</th>\n",
       "      <th>geometry</th>\n",
       "      <th>area_km2</th>\n",
       "      <th>densidad_poblacion</th>\n",
       "      <th>Grado de escolaridad promedio</th>\n",
       "    </tr>\n",
       "  </thead>\n",
       "  <tbody>\n",
       "    <tr>\n",
       "      <th>0</th>\n",
       "      <td>09015</td>\n",
       "      <td>09</td>\n",
       "      <td>015</td>\n",
       "      <td>CUAUHTEMOC</td>\n",
       "      <td>Ciudad de México</td>\n",
       "      <td>284</td>\n",
       "      <td>285</td>\n",
       "      <td>3233.524482</td>\n",
       "      <td>24394.760015</td>\n",
       "      <td>POLYGON ((-99.12224 19.45978, -99.12224 19.459...</td>\n",
       "      <td>32.335245</td>\n",
       "      <td>16879.971159</td>\n",
       "      <td>13.32</td>\n",
       "    </tr>\n",
       "    <tr>\n",
       "      <th>1</th>\n",
       "      <td>09005</td>\n",
       "      <td>09</td>\n",
       "      <td>005</td>\n",
       "      <td>GUSTAVO A. MADERO</td>\n",
       "      <td>Ciudad de México</td>\n",
       "      <td>288</td>\n",
       "      <td>289</td>\n",
       "      <td>8737.830624</td>\n",
       "      <td>56403.558051</td>\n",
       "      <td>POLYGON ((-99.11789 19.59059, -99.11860 19.584...</td>\n",
       "      <td>87.378306</td>\n",
       "      <td>13425.723734</td>\n",
       "      <td>11.32</td>\n",
       "    </tr>\n",
       "    <tr>\n",
       "      <th>2</th>\n",
       "      <td>09004</td>\n",
       "      <td>09</td>\n",
       "      <td>004</td>\n",
       "      <td>CUAJIMALPA DE MORELOS</td>\n",
       "      <td>Ciudad de México</td>\n",
       "      <td>289</td>\n",
       "      <td>290</td>\n",
       "      <td>7076.185866</td>\n",
       "      <td>66252.498897</td>\n",
       "      <td>POLYGON ((-99.25581 19.40357, -99.25567 19.403...</td>\n",
       "      <td>70.761859</td>\n",
       "      <td>3058.116394</td>\n",
       "      <td>11.44</td>\n",
       "    </tr>\n",
       "  </tbody>\n",
       "</table>\n",
       "</div>"
      ]
     },
     "execution_count": 29,
     "metadata": {},
     "output_type": "execute_result"
    }
   ],
   "execution_count": 29
  },
  {
   "metadata": {
    "ExecuteTime": {
     "end_time": "2024-12-09T03:24:16.672016Z",
     "start_time": "2024-12-09T03:24:16.663368Z"
    }
   },
   "cell_type": "code",
   "source": [
    "conteo_total_escuelas = conteo_total_escuelas.rename(columns={'alcaldia': 'NOMGEO'})\n",
    "\n",
    "conteo_total_escuelas = conteo_total_escuelas.merge(agebs, on='NOMGEO')\n",
    "\n",
    "conteo_total_escuelas = conteo_total_escuelas[['NOMGEO', 'escuelas_privadas', 'escuelas_publicas', 'area_km2']]"
   ],
   "id": "72d2d7d204f6694c",
   "outputs": [],
   "execution_count": 30
  },
  {
   "metadata": {
    "ExecuteTime": {
     "end_time": "2024-12-09T03:24:16.814097Z",
     "start_time": "2024-12-09T03:24:16.805898Z"
    }
   },
   "cell_type": "code",
   "source": [
    "conteo_total_escuelas['densidad_escuelas_privadas'] = conteo_total_escuelas['escuelas_privadas'] / conteo_total_escuelas['area_km2']\n",
    "conteo_total_escuelas['densidad_escuelas_publicas'] = conteo_total_escuelas['escuelas_publicas'] / conteo_total_escuelas['area_km2']\n",
    "\n",
    "conteo_total_escuelas = conteo_total_escuelas[['NOMGEO', 'densidad_escuelas_privadas', 'densidad_escuelas_publicas']]\n",
    "conteo_total_escuelas"
   ],
   "id": "e5c18d66d4b2b87e",
   "outputs": [
    {
     "data": {
      "text/plain": [
       "                  NOMGEO  densidad_escuelas_privadas  \\\n",
       "0  CUAJIMALPA DE MORELOS                    2.232841   \n",
       "1             CUAUHTEMOC                    5.845015   \n",
       "2      GUSTAVO A. MADERO                    5.344576   \n",
       "\n",
       "   densidad_escuelas_publicas  \n",
       "0                    0.508749  \n",
       "1                    6.741869  \n",
       "2                    4.211572  "
      ],
      "text/html": [
       "<div>\n",
       "<style scoped>\n",
       "    .dataframe tbody tr th:only-of-type {\n",
       "        vertical-align: middle;\n",
       "    }\n",
       "\n",
       "    .dataframe tbody tr th {\n",
       "        vertical-align: top;\n",
       "    }\n",
       "\n",
       "    .dataframe thead th {\n",
       "        text-align: right;\n",
       "    }\n",
       "</style>\n",
       "<table border=\"1\" class=\"dataframe\">\n",
       "  <thead>\n",
       "    <tr style=\"text-align: right;\">\n",
       "      <th></th>\n",
       "      <th>NOMGEO</th>\n",
       "      <th>densidad_escuelas_privadas</th>\n",
       "      <th>densidad_escuelas_publicas</th>\n",
       "    </tr>\n",
       "  </thead>\n",
       "  <tbody>\n",
       "    <tr>\n",
       "      <th>0</th>\n",
       "      <td>CUAJIMALPA DE MORELOS</td>\n",
       "      <td>2.232841</td>\n",
       "      <td>0.508749</td>\n",
       "    </tr>\n",
       "    <tr>\n",
       "      <th>1</th>\n",
       "      <td>CUAUHTEMOC</td>\n",
       "      <td>5.845015</td>\n",
       "      <td>6.741869</td>\n",
       "    </tr>\n",
       "    <tr>\n",
       "      <th>2</th>\n",
       "      <td>GUSTAVO A. MADERO</td>\n",
       "      <td>5.344576</td>\n",
       "      <td>4.211572</td>\n",
       "    </tr>\n",
       "  </tbody>\n",
       "</table>\n",
       "</div>"
      ]
     },
     "execution_count": 31,
     "metadata": {},
     "output_type": "execute_result"
    }
   ],
   "execution_count": 31
  },
  {
   "metadata": {
    "ExecuteTime": {
     "end_time": "2024-12-09T03:24:16.919310Z",
     "start_time": "2024-12-09T03:24:16.916669Z"
    }
   },
   "cell_type": "code",
   "source": "print(conteo_total_escuelas.columns)",
   "id": "818292f66d583460",
   "outputs": [
    {
     "name": "stdout",
     "output_type": "stream",
     "text": [
      "Index(['NOMGEO', 'densidad_escuelas_privadas', 'densidad_escuelas_publicas'], dtype='object')\n"
     ]
    }
   ],
   "execution_count": 32
  },
  {
   "metadata": {},
   "cell_type": "markdown",
   "source": [
    "### 5.4. Análisis del Uso de Suelo No Residencial\n",
    "\n",
    "En esta sección, analizamos el **Uso de Suelo No Residencial** en las alcaldías de interés seleccionadas:\n",
    "- **CUAUHTEMOC**\n",
    "- **GUSTAVO A. MADERO**\n",
    "- **CUAJIMALPA DE MORELOS**\n",
    "\n",
    "Utilizaremos el dataset `usoDeSuelo.csv`, que contiene información sobre la descripción del uso del suelo en cada alcaldía. Nuestro objetivo es identificar y visualizar los diferentes tipos de uso de suelo no residencial presentes en estas áreas."
   ],
   "id": "f89d0b74e635a8a1"
  },
  {
   "metadata": {
    "ExecuteTime": {
     "end_time": "2024-12-09T03:24:17.162314Z",
     "start_time": "2024-12-09T03:24:17.024867Z"
    }
   },
   "cell_type": "code",
   "source": [
    "# Carga del dataset de Uso de Suelo\n",
    "dfUsoDeSuelo = pd.read_csv('usoDeSuelo.csv')\n",
    "\n",
    "# Mostrar las primeras filas del dataset para verificar la carga\n",
    "print(\"Dimensiones del Dataset de Uso de Suelo:\", dfUsoDeSuelo.shape)\n",
    "dfUsoDeSuelo.head()"
   ],
   "id": "1c573cc971b54f55",
   "outputs": [
    {
     "name": "stdout",
     "output_type": "stream",
     "text": [
      "Dimensiones del Dataset de Uso de Suelo: (235931, 2)\n"
     ]
    },
    {
     "data": {
      "text/plain": [
       "            alcaldia                           uso_descripcion\n",
       "0  GUSTAVO A. MADERO                              Habitacional\n",
       "1  GUSTAVO A. MADERO  Habitacional con Comercio en Planta Baja\n",
       "2  GUSTAVO A. MADERO                              Habitacional\n",
       "3  GUSTAVO A. MADERO                              Habitacional\n",
       "4  GUSTAVO A. MADERO  Habitacional con Comercio en Planta Baja"
      ],
      "text/html": [
       "<div>\n",
       "<style scoped>\n",
       "    .dataframe tbody tr th:only-of-type {\n",
       "        vertical-align: middle;\n",
       "    }\n",
       "\n",
       "    .dataframe tbody tr th {\n",
       "        vertical-align: top;\n",
       "    }\n",
       "\n",
       "    .dataframe thead th {\n",
       "        text-align: right;\n",
       "    }\n",
       "</style>\n",
       "<table border=\"1\" class=\"dataframe\">\n",
       "  <thead>\n",
       "    <tr style=\"text-align: right;\">\n",
       "      <th></th>\n",
       "      <th>alcaldia</th>\n",
       "      <th>uso_descripcion</th>\n",
       "    </tr>\n",
       "  </thead>\n",
       "  <tbody>\n",
       "    <tr>\n",
       "      <th>0</th>\n",
       "      <td>GUSTAVO A. MADERO</td>\n",
       "      <td>Habitacional</td>\n",
       "    </tr>\n",
       "    <tr>\n",
       "      <th>1</th>\n",
       "      <td>GUSTAVO A. MADERO</td>\n",
       "      <td>Habitacional con Comercio en Planta Baja</td>\n",
       "    </tr>\n",
       "    <tr>\n",
       "      <th>2</th>\n",
       "      <td>GUSTAVO A. MADERO</td>\n",
       "      <td>Habitacional</td>\n",
       "    </tr>\n",
       "    <tr>\n",
       "      <th>3</th>\n",
       "      <td>GUSTAVO A. MADERO</td>\n",
       "      <td>Habitacional</td>\n",
       "    </tr>\n",
       "    <tr>\n",
       "      <th>4</th>\n",
       "      <td>GUSTAVO A. MADERO</td>\n",
       "      <td>Habitacional con Comercio en Planta Baja</td>\n",
       "    </tr>\n",
       "  </tbody>\n",
       "</table>\n",
       "</div>"
      ]
     },
     "execution_count": 33,
     "metadata": {},
     "output_type": "execute_result"
    }
   ],
   "execution_count": 33
  },
  {
   "metadata": {
    "ExecuteTime": {
     "end_time": "2024-12-09T03:24:17.300946Z",
     "start_time": "2024-12-09T03:24:17.275659Z"
    }
   },
   "cell_type": "code",
   "source": [
    "print(dfUsoDeSuelo.shape)\n",
    "dfUsoDeSuelo['uso_descripcion'].value_counts()"
   ],
   "id": "df20485053aa7d78",
   "outputs": [
    {
     "name": "stdout",
     "output_type": "stream",
     "text": [
      "(235931, 2)\n"
     ]
    },
    {
     "data": {
      "text/plain": [
       "uso_descripcion\n",
       "Habitacional con Comercio en Planta Baja                                                                                                  111531\n",
       "Habitacional                                                                                                                               69650\n",
       "Habitacional con Comercio                                                                                                                  16814\n",
       "Habitacional Mixto                                                                                                                          8652\n",
       "Sin Zonificación                                                                                                                            4053\n",
       "Habitacional con Oficinas                                                                                                                   3326\n",
       "Preservación Ecológica                                                                                                                      3200\n",
       "Habitacional (Con comercio y/o Servicio en P.B. H-3-20 o 10 m)                                                                              2692\n",
       "Centro de Barrio                                                                                                                            1648\n",
       "Habitacional.                                                                                                                               1417\n",
       "Habitacional Rural de Baja Densidad                                                                                                         1369\n",
       "Habitacional con Comercio en Planta Baja *(Número de niveles de acuerdo a los criterios para determinar las alturas en Zona Histórica)      1308\n",
       "Equipamiento                                                                                                                                1285\n",
       "Rescate Ecológico                                                                                                                           1144\n",
       "Habitacional *(Número de niveles de acuerdo a los criterios para determinar las alturas en Zona Histórica)                                  1057\n",
       "Industria                                                                                                                                    757\n",
       "Habitacional Tipo B.                                                                                                                         582\n",
       "Habitacional con Oficinas *(Número de niveles de acuerdo a los criterios para determinar las alturas en Zona Histórica)                      570\n",
       "Espacios Abiertos                                                                                                                            522\n",
       "Habitacional Mixto.                                                                                                                          483\n",
       "Habitacional Mixto *(Número de niveles de acuerdo a los criterios para determinar las alturas en Zona Histórica)                             479\n",
       "Habitacional Tipo A.                                                                                                                         372\n",
       "Equipamiento.                                                                                                                                325\n",
       "Habitacional con Comercio en Planta Baja.                                                                                                    267\n",
       "Áreas Verdes de Valor Ambiental                                                                                                              233\n",
       "Habitacional Rural                                                                                                                           220\n",
       "Equipamiento Urbano e Infraestructura                                                                                                        191\n",
       "Habitacional /Comercial.                                                                                                                     168\n",
       "Habitacional Plurifamiliar y/o Oficinas sin Servicios.                                                                                       161\n",
       "Habitacional Plurifamiliar y/o Oficinas con Comercio.                                                                                        144\n",
       "Habitacional Tipo C.                                                                                                                         138\n",
       "Habitacional y/o Oficinas con Comercio en P.B. y Primer Nivel.                                                                               122\n",
       "Habitacional con Comercio solo en P.B.                                                                                                       116\n",
       "Habitacional con Comercio  HC-3-20 o m                                                                                                        95\n",
       "Habitacional con Oficinas.                                                                                                                    83\n",
       "Espacio Abierto                                                                                                                               78\n",
       "Habitacional con Comercio y Servicios.                                                                                                        76\n",
       "Habitacional Plurifamiliar y/o Oficinas y/o Servicios Turísticos con Comercio en P.B.                                                         71\n",
       "Habitacional Rural con Comercio y Servicios                                                                                                   66\n",
       "Habitacional Servicios y Oficinas                                                                                                             56\n",
       "Habitacional con Comercio en P.B.                                                                                                             55\n",
       "Área Verde                                                                                                                                    47\n",
       "Industria con Comerico                                                                                                                        45\n",
       "Habitacional con Entretenimiento *(Número de niveles de acuerdo a los criterios para determinar las alturas en Zona Histórica)                41\n",
       "Proyecto Maestro de la Zona de Hueyatla                                                                                                       40\n",
       "Equipamiento Rural                                                                                                                            40\n",
       "Habitacional con Entretenimiento                                                                                                              38\n",
       "Espacios Abiertos. (Parques, Plazas y Jardines Publicos)                                                                                      37\n",
       "Subcentro Urbano                                                                                                                              27\n",
       "Proyecto Maestro Bosque de Santa Fe, de la zona Habitacional Prados de la Montaña II                                                          13\n",
       "Área Verde.                                                                                                                                   10\n",
       "Espacios Abiertos (Parques, jardines y deportivos)                                                                                             9\n",
       "Corredor de Servicios Urbanos                                                                                                                  6\n",
       "Centro Comericial                                                                                                                              2\n",
       "Name: count, dtype: int64"
      ]
     },
     "execution_count": 34,
     "metadata": {},
     "output_type": "execute_result"
    }
   ],
   "execution_count": 34
  },
  {
   "metadata": {
    "ExecuteTime": {
     "end_time": "2024-12-09T03:24:17.603806Z",
     "start_time": "2024-12-09T03:24:17.579652Z"
    }
   },
   "cell_type": "code",
   "source": [
    "usos_comercio_servicios = [\n",
    "    \"Comercio y Servicios\",\n",
    "    \"Habitacional con Comercio en Planta Baja\",\n",
    "    \"Habitacional con Comercio\",\n",
    "    \"Habitacional (Con comercio y/o Servicio en P.B. H-3-20 o 10 m)\",\n",
    "    \"Habitacional con Oficinas\",\n",
    "    \"Habitacional con Oficinas y/o Servicios Turísticos con Comercio en P.B.\",\n",
    "    \"Habitacional con Comercio solo en P.B.\",\n",
    "    \"Habitacional con Comercio HC-3-20 o m\",\n",
    "    \"Centro Comercial\",\n",
    "    \"Corredor de Servicios Urbanos\",\n",
    "    \"Habitacional con Entretenimiento\",\n",
    "    \"Habitacional con Entretenimiento *(Número de niveles de acuerdo a los criterios para determinar las alturas en Zona Histórica)\",\n",
    "    \"Habitacional con Comercio en Planta Baja *(Número de niveles de acuerdo a los criterios para determinar las alturas en Zona Histórica)\",\n",
    "    \"Habitacional con Oficinas *(Número de niveles de acuerdo a los criterios para determinar las alturas en Zona Histórica)\"\n",
    "]\n",
    "\n",
    "dfUsoDeSuelo = dfUsoDeSuelo.groupby('alcaldia').size().reset_index(name='total_usos_suelo')\n",
    "dfUsoDeSuelo"
   ],
   "id": "13f9bf3d3dc848bf",
   "outputs": [
    {
     "data": {
      "text/plain": [
       "                alcaldia  total_usos_suelo\n",
       "0  CUAJIMALPA DE MORELOS             15573\n",
       "1             CUAUHTEMOC             44657\n",
       "2      GUSTAVO A. MADERO            175701"
      ],
      "text/html": [
       "<div>\n",
       "<style scoped>\n",
       "    .dataframe tbody tr th:only-of-type {\n",
       "        vertical-align: middle;\n",
       "    }\n",
       "\n",
       "    .dataframe tbody tr th {\n",
       "        vertical-align: top;\n",
       "    }\n",
       "\n",
       "    .dataframe thead th {\n",
       "        text-align: right;\n",
       "    }\n",
       "</style>\n",
       "<table border=\"1\" class=\"dataframe\">\n",
       "  <thead>\n",
       "    <tr style=\"text-align: right;\">\n",
       "      <th></th>\n",
       "      <th>alcaldia</th>\n",
       "      <th>total_usos_suelo</th>\n",
       "    </tr>\n",
       "  </thead>\n",
       "  <tbody>\n",
       "    <tr>\n",
       "      <th>0</th>\n",
       "      <td>CUAJIMALPA DE MORELOS</td>\n",
       "      <td>15573</td>\n",
       "    </tr>\n",
       "    <tr>\n",
       "      <th>1</th>\n",
       "      <td>CUAUHTEMOC</td>\n",
       "      <td>44657</td>\n",
       "    </tr>\n",
       "    <tr>\n",
       "      <th>2</th>\n",
       "      <td>GUSTAVO A. MADERO</td>\n",
       "      <td>175701</td>\n",
       "    </tr>\n",
       "  </tbody>\n",
       "</table>\n",
       "</div>"
      ]
     },
     "execution_count": 35,
     "metadata": {},
     "output_type": "execute_result"
    }
   ],
   "execution_count": 35
  },
  {
   "metadata": {
    "ExecuteTime": {
     "end_time": "2024-12-09T03:25:17.295198Z",
     "start_time": "2024-12-09T03:25:17.158691Z"
    }
   },
   "cell_type": "code",
   "source": [
    "plt.figure(figsize=(8,6))\n",
    "sns.barplot(x='alcaldia', y='total_usos_suelo', data=dfUsoDeSuelo)\n",
    "plt.xlabel('Alcaldía')\n",
    "plt.ylabel('USUE (%)')\n",
    "plt.title('Uso del Suelo No Residencial para Comercio y Servicios por Alcaldía')\n",
    "plt.show()"
   ],
   "id": "e6d3e2f3d08c104e",
   "outputs": [
    {
     "data": {
      "text/plain": [
       "<Figure size 800x600 with 1 Axes>"
      ],
      "image/png": "[encoded data removed]"
     },
     "metadata": {},
     "output_type": "display_data"
    }
   ],
   "execution_count": 38
  },
  {
   "metadata": {},
   "cell_type": "markdown",
   "source": "### 5.5. Camaras de vigilancia del C5I",
   "id": "8f33e0a4645aab57"
  },
  {
   "metadata": {
    "ExecuteTime": {
     "end_time": "2024-12-09T03:27:36.087759Z",
     "start_time": "2024-12-09T03:27:36.079465Z"
    }
   },
   "cell_type": "code",
   "source": [
    "dfCamaras = pd.read_csv('camarasC5I.csv')\n",
    "dfCamaras = dfCamaras[dfCamaras['Delegación'].isin(alcaldias_interes)]\n",
    "dfCamaras.head()"
   ],
   "id": "56481b72df333c49",
   "outputs": [
    {
     "data": {
      "text/plain": [
       "              Delegación  Total Cámaras\n",
       "4  CUAJIMALPA DE MORELOS            266\n",
       "5             CUAUHTEMOC           1639\n",
       "6      GUSTAVO A. MADERO           1992"
      ],
      "text/html": [
       "<div>\n",
       "<style scoped>\n",
       "    .dataframe tbody tr th:only-of-type {\n",
       "        vertical-align: middle;\n",
       "    }\n",
       "\n",
       "    .dataframe tbody tr th {\n",
       "        vertical-align: top;\n",
       "    }\n",
       "\n",
       "    .dataframe thead th {\n",
       "        text-align: right;\n",
       "    }\n",
       "</style>\n",
       "<table border=\"1\" class=\"dataframe\">\n",
       "  <thead>\n",
       "    <tr style=\"text-align: right;\">\n",
       "      <th></th>\n",
       "      <th>Delegación</th>\n",
       "      <th>Total Cámaras</th>\n",
       "    </tr>\n",
       "  </thead>\n",
       "  <tbody>\n",
       "    <tr>\n",
       "      <th>4</th>\n",
       "      <td>CUAJIMALPA DE MORELOS</td>\n",
       "      <td>266</td>\n",
       "    </tr>\n",
       "    <tr>\n",
       "      <th>5</th>\n",
       "      <td>CUAUHTEMOC</td>\n",
       "      <td>1639</td>\n",
       "    </tr>\n",
       "    <tr>\n",
       "      <th>6</th>\n",
       "      <td>GUSTAVO A. MADERO</td>\n",
       "      <td>1992</td>\n",
       "    </tr>\n",
       "  </tbody>\n",
       "</table>\n",
       "</div>"
      ]
     },
     "execution_count": 42,
     "metadata": {},
     "output_type": "execute_result"
    }
   ],
   "execution_count": 42
  },
  {
   "metadata": {
    "ExecuteTime": {
     "end_time": "2024-12-09T03:24:18.446466701Z",
     "start_time": "2024-12-09T02:56:47.267701Z"
    }
   },
   "cell_type": "code",
   "source": "",
   "id": "769f6d2fb952b9e8",
   "outputs": [],
   "execution_count": null
  }
 ],
 "metadata": {
  "kernelspec": {
   "display_name": "Python 3",
   "language": "python",
   "name": "python3"
  },
  "language_info": {
   "codemirror_mode": {
    "name": "ipython",
    "version": 2
   },
   "file_extension": ".py",
   "mimetype": "text/x-python",
   "name": "python",
   "nbconvert_exporter": "python",
   "pygments_lexer": "ipython2",
   "version": "2.7.6"
  }
 },
 "nbformat": 4,
 "nbformat_minor": 5
}
